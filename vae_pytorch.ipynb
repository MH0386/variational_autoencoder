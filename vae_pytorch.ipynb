{
 "cells": [
  {
   "cell_type": "code",
   "execution_count": 1,
   "id": "initial_id",
   "metadata": {
    "collapsed": true,
    "ExecuteTime": {
     "end_time": "2023-12-30T23:50:24.428957800Z",
     "start_time": "2023-12-30T23:50:19.461373500Z"
    }
   },
   "outputs": [],
   "source": [
    "import os\n",
    "import gradio\n",
    "import matplotlib.pyplot as plt\n",
    "import numpy as np\n",
    "import torch\n",
    "import torchvision\n",
    "from PIL import Image,ImageChops"
   ]
  },
  {
   "cell_type": "code",
   "execution_count": 2,
   "id": "7027e79ba0540a26",
   "metadata": {
    "collapsed": false,
    "ExecuteTime": {
     "end_time": "2023-12-30T23:50:24.441152Z",
     "start_time": "2023-12-30T23:50:24.429961200Z"
    }
   },
   "outputs": [],
   "source": [
    "class VAE(torch.nn.Module):\n",
    "    def __init__(self, input_dim, latent_dim, hidden_dim):\n",
    "        super().__init__()\n",
    "\n",
    "        # Encoder\n",
    "        self.input_to_hidden = torch.nn.Linear(input_dim, hidden_dim)\n",
    "        self.hidden_to_mu = torch.nn.Linear(hidden_dim, latent_dim)\n",
    "        self.hidden_to_log_var = torch.nn.Linear(hidden_dim, latent_dim)\n",
    "\n",
    "        # Decoder\n",
    "        self.latent_to_hidden = torch.nn.Linear(latent_dim, hidden_dim)\n",
    "        self.hidden_to_output = torch.nn.Linear(hidden_dim, input_dim)\n",
    "\n",
    "        self.optimizer = torch.optim.Adam(self.parameters(), lr=0.001)\n",
    "\n",
    "    def Encoder(self, x):\n",
    "        h = self.input_to_hidden(x)\n",
    "        mu = self.hidden_to_mu(h)\n",
    "        log_var = self.hidden_to_log_var(h)\n",
    "        return mu, log_var\n",
    "\n",
    "    def Decoder(self, z):\n",
    "        h = self.latent_to_hidden(z)\n",
    "        x_hat = torch.sigmoid(self.hidden_to_output(h))\n",
    "        return x_hat\n",
    "\n",
    "    def forward(self, X):\n",
    "        mu, log_var = self.Encoder(X)\n",
    "        z = self.reparameterize(mu, log_var)\n",
    "        x_hat = self.Decoder(z)\n",
    "        return x_hat, mu, log_var\n",
    "\n",
    "    def loss_function(self, X, x_hat, mu, log_var):\n",
    "        BCE = torch.nn.functional.mse_loss(x_hat, X, reduction='sum')\n",
    "        KLD = -0.5 * torch.sum(1 + log_var - mu.pow(2) - torch.exp(log_var))\n",
    "        return BCE + KLD\n",
    "\n",
    "    def reparameterize(self, mu, logVar):\n",
    "        std = torch.exp(0.5 * logVar)\n",
    "        eps = torch.randn_like(std)\n",
    "        return mu + eps * std\n",
    "\n",
    "    def accuracy(self, X, x_hat):\n",
    "        X = torchvision.transforms.functional.to_pil_image(X)\n",
    "        x_hat = torchvision.transforms.functional.to_pil_image(x_hat)\n",
    "        diff = ImageChops.difference(X, x_hat)\n",
    "        rms = diff.rms  # Calculate RMS value\n",
    "        return rms\n",
    "\n",
    "    def Train(self, X, epochs=100):\n",
    "        history = []\n",
    "        x_hat = None\n",
    "        self.train()\n",
    "        for epoch in range(epochs):\n",
    "            self.optimizer.zero_grad()\n",
    "            x_hat, mean, log_var = self.forward(X)\n",
    "            loss = self.loss_function(X, x_hat, mean, log_var)\n",
    "            loss.backward()\n",
    "            self.optimizer.step()\n",
    "            print(f'Epoch: {epoch}, Loss: {loss.item()}')\n",
    "            history.append(loss.item())\n",
    "\n",
    "        plt.plot(history)\n",
    "        return history, x_hat"
   ]
  },
  {
   "cell_type": "code",
   "execution_count": 3,
   "id": "b7f2dce8eeff0da7",
   "metadata": {
    "collapsed": false,
    "ExecuteTime": {
     "end_time": "2023-12-30T23:50:24.456630600Z",
     "start_time": "2023-12-30T23:50:24.441152Z"
    }
   },
   "outputs": [],
   "source": [
    "# mnist = torchvision.datasets.MNIST(root='./data', train=True, download=True, transform=torchvision.transforms.ToTensor())\n",
    "# train_loader = torch.utils.data.DataLoader(mnist, shuffle=True, batch_size=mnist.train_data.shape[0])\n",
    "# image, label = next(iter(train_loader))"
   ]
  },
  {
   "cell_type": "code",
   "execution_count": 4,
   "outputs": [],
   "source": [
    "Transform = torchvision.transforms.Compose([\n",
    "    torchvision.transforms.ToTensor(),\n",
    "    torchvision.transforms.Resize((800, 800)),\n",
    "    torchvision.transforms.ToPILImage(mode='RGB')\n",
    "])"
   ],
   "metadata": {
    "collapsed": false,
    "ExecuteTime": {
     "end_time": "2023-12-30T23:50:24.457631200Z",
     "start_time": "2023-12-30T23:50:24.452119200Z"
    }
   },
   "id": "20b1d0601602b579"
  },
  {
   "cell_type": "code",
   "execution_count": 5,
   "outputs": [
    {
     "ename": "FileNotFoundError",
     "evalue": "[WinError 3] The system cannot find the path specified: './data/toys_dataset/images'",
     "output_type": "error",
     "traceback": [
      "\u001B[1;31m---------------------------------------------------------------------------\u001B[0m",
      "\u001B[1;31mFileNotFoundError\u001B[0m                         Traceback (most recent call last)",
      "Cell \u001B[1;32mIn[5], line 1\u001B[0m\n\u001B[1;32m----> 1\u001B[0m dataFromLocal \u001B[38;5;241m=\u001B[39m torchvision\u001B[38;5;241m.\u001B[39mdatasets\u001B[38;5;241m.\u001B[39mImageFolder(root\u001B[38;5;241m=\u001B[39m\u001B[38;5;124m'\u001B[39m\u001B[38;5;124m./data/toys_dataset/images\u001B[39m\u001B[38;5;124m'\u001B[39m, transform\u001B[38;5;241m=\u001B[39mTransform)\n\u001B[0;32m      2\u001B[0m dataLoader \u001B[38;5;241m=\u001B[39m torch\u001B[38;5;241m.\u001B[39mutils\u001B[38;5;241m.\u001B[39mdata\u001B[38;5;241m.\u001B[39mDataLoader(dataFromLocal, shuffle\u001B[38;5;241m=\u001B[39m\u001B[38;5;28;01mTrue\u001B[39;00m, batch_size\u001B[38;5;241m=\u001B[39m\u001B[38;5;241m300\u001B[39m)\n",
      "File \u001B[1;32m~\\anaconda3\\Lib\\site-packages\\torchvision\\datasets\\folder.py:309\u001B[0m, in \u001B[0;36mImageFolder.__init__\u001B[1;34m(self, root, transform, target_transform, loader, is_valid_file)\u001B[0m\n\u001B[0;32m    301\u001B[0m \u001B[38;5;28;01mdef\u001B[39;00m \u001B[38;5;21m__init__\u001B[39m(\n\u001B[0;32m    302\u001B[0m     \u001B[38;5;28mself\u001B[39m,\n\u001B[0;32m    303\u001B[0m     root: \u001B[38;5;28mstr\u001B[39m,\n\u001B[1;32m   (...)\u001B[0m\n\u001B[0;32m    307\u001B[0m     is_valid_file: Optional[Callable[[\u001B[38;5;28mstr\u001B[39m], \u001B[38;5;28mbool\u001B[39m]] \u001B[38;5;241m=\u001B[39m \u001B[38;5;28;01mNone\u001B[39;00m,\n\u001B[0;32m    308\u001B[0m ):\n\u001B[1;32m--> 309\u001B[0m     \u001B[38;5;28msuper\u001B[39m()\u001B[38;5;241m.\u001B[39m\u001B[38;5;21m__init__\u001B[39m(\n\u001B[0;32m    310\u001B[0m         root,\n\u001B[0;32m    311\u001B[0m         loader,\n\u001B[0;32m    312\u001B[0m         IMG_EXTENSIONS \u001B[38;5;28;01mif\u001B[39;00m is_valid_file \u001B[38;5;129;01mis\u001B[39;00m \u001B[38;5;28;01mNone\u001B[39;00m \u001B[38;5;28;01melse\u001B[39;00m \u001B[38;5;28;01mNone\u001B[39;00m,\n\u001B[0;32m    313\u001B[0m         transform\u001B[38;5;241m=\u001B[39mtransform,\n\u001B[0;32m    314\u001B[0m         target_transform\u001B[38;5;241m=\u001B[39mtarget_transform,\n\u001B[0;32m    315\u001B[0m         is_valid_file\u001B[38;5;241m=\u001B[39mis_valid_file,\n\u001B[0;32m    316\u001B[0m     )\n\u001B[0;32m    317\u001B[0m     \u001B[38;5;28mself\u001B[39m\u001B[38;5;241m.\u001B[39mimgs \u001B[38;5;241m=\u001B[39m \u001B[38;5;28mself\u001B[39m\u001B[38;5;241m.\u001B[39msamples\n",
      "File \u001B[1;32m~\\anaconda3\\Lib\\site-packages\\torchvision\\datasets\\folder.py:144\u001B[0m, in \u001B[0;36mDatasetFolder.__init__\u001B[1;34m(self, root, loader, extensions, transform, target_transform, is_valid_file)\u001B[0m\n\u001B[0;32m    134\u001B[0m \u001B[38;5;28;01mdef\u001B[39;00m \u001B[38;5;21m__init__\u001B[39m(\n\u001B[0;32m    135\u001B[0m     \u001B[38;5;28mself\u001B[39m,\n\u001B[0;32m    136\u001B[0m     root: \u001B[38;5;28mstr\u001B[39m,\n\u001B[1;32m   (...)\u001B[0m\n\u001B[0;32m    141\u001B[0m     is_valid_file: Optional[Callable[[\u001B[38;5;28mstr\u001B[39m], \u001B[38;5;28mbool\u001B[39m]] \u001B[38;5;241m=\u001B[39m \u001B[38;5;28;01mNone\u001B[39;00m,\n\u001B[0;32m    142\u001B[0m ) \u001B[38;5;241m-\u001B[39m\u001B[38;5;241m>\u001B[39m \u001B[38;5;28;01mNone\u001B[39;00m:\n\u001B[0;32m    143\u001B[0m     \u001B[38;5;28msuper\u001B[39m()\u001B[38;5;241m.\u001B[39m\u001B[38;5;21m__init__\u001B[39m(root, transform\u001B[38;5;241m=\u001B[39mtransform, target_transform\u001B[38;5;241m=\u001B[39mtarget_transform)\n\u001B[1;32m--> 144\u001B[0m     classes, class_to_idx \u001B[38;5;241m=\u001B[39m \u001B[38;5;28mself\u001B[39m\u001B[38;5;241m.\u001B[39mfind_classes(\u001B[38;5;28mself\u001B[39m\u001B[38;5;241m.\u001B[39mroot)\n\u001B[0;32m    145\u001B[0m     samples \u001B[38;5;241m=\u001B[39m \u001B[38;5;28mself\u001B[39m\u001B[38;5;241m.\u001B[39mmake_dataset(\u001B[38;5;28mself\u001B[39m\u001B[38;5;241m.\u001B[39mroot, class_to_idx, extensions, is_valid_file)\n\u001B[0;32m    147\u001B[0m     \u001B[38;5;28mself\u001B[39m\u001B[38;5;241m.\u001B[39mloader \u001B[38;5;241m=\u001B[39m loader\n",
      "File \u001B[1;32m~\\anaconda3\\Lib\\site-packages\\torchvision\\datasets\\folder.py:218\u001B[0m, in \u001B[0;36mDatasetFolder.find_classes\u001B[1;34m(self, directory)\u001B[0m\n\u001B[0;32m    191\u001B[0m \u001B[38;5;28;01mdef\u001B[39;00m \u001B[38;5;21mfind_classes\u001B[39m(\u001B[38;5;28mself\u001B[39m, directory: \u001B[38;5;28mstr\u001B[39m) \u001B[38;5;241m-\u001B[39m\u001B[38;5;241m>\u001B[39m Tuple[List[\u001B[38;5;28mstr\u001B[39m], Dict[\u001B[38;5;28mstr\u001B[39m, \u001B[38;5;28mint\u001B[39m]]:\n\u001B[0;32m    192\u001B[0m \u001B[38;5;250m    \u001B[39m\u001B[38;5;124;03m\"\"\"Find the class folders in a dataset structured as follows::\u001B[39;00m\n\u001B[0;32m    193\u001B[0m \n\u001B[0;32m    194\u001B[0m \u001B[38;5;124;03m        directory/\u001B[39;00m\n\u001B[1;32m   (...)\u001B[0m\n\u001B[0;32m    216\u001B[0m \u001B[38;5;124;03m        (Tuple[List[str], Dict[str, int]]): List of all classes and dictionary mapping each class to an index.\u001B[39;00m\n\u001B[0;32m    217\u001B[0m \u001B[38;5;124;03m    \"\"\"\u001B[39;00m\n\u001B[1;32m--> 218\u001B[0m     \u001B[38;5;28;01mreturn\u001B[39;00m find_classes(directory)\n",
      "File \u001B[1;32m~\\anaconda3\\Lib\\site-packages\\torchvision\\datasets\\folder.py:40\u001B[0m, in \u001B[0;36mfind_classes\u001B[1;34m(directory)\u001B[0m\n\u001B[0;32m     35\u001B[0m \u001B[38;5;28;01mdef\u001B[39;00m \u001B[38;5;21mfind_classes\u001B[39m(directory: \u001B[38;5;28mstr\u001B[39m) \u001B[38;5;241m-\u001B[39m\u001B[38;5;241m>\u001B[39m Tuple[List[\u001B[38;5;28mstr\u001B[39m], Dict[\u001B[38;5;28mstr\u001B[39m, \u001B[38;5;28mint\u001B[39m]]:\n\u001B[0;32m     36\u001B[0m \u001B[38;5;250m    \u001B[39m\u001B[38;5;124;03m\"\"\"Finds the class folders in a dataset.\u001B[39;00m\n\u001B[0;32m     37\u001B[0m \n\u001B[0;32m     38\u001B[0m \u001B[38;5;124;03m    See :class:`DatasetFolder` for details.\u001B[39;00m\n\u001B[0;32m     39\u001B[0m \u001B[38;5;124;03m    \"\"\"\u001B[39;00m\n\u001B[1;32m---> 40\u001B[0m     classes \u001B[38;5;241m=\u001B[39m \u001B[38;5;28msorted\u001B[39m(entry\u001B[38;5;241m.\u001B[39mname \u001B[38;5;28;01mfor\u001B[39;00m entry \u001B[38;5;129;01min\u001B[39;00m os\u001B[38;5;241m.\u001B[39mscandir(directory) \u001B[38;5;28;01mif\u001B[39;00m entry\u001B[38;5;241m.\u001B[39mis_dir())\n\u001B[0;32m     41\u001B[0m     \u001B[38;5;28;01mif\u001B[39;00m \u001B[38;5;129;01mnot\u001B[39;00m classes:\n\u001B[0;32m     42\u001B[0m         \u001B[38;5;28;01mraise\u001B[39;00m \u001B[38;5;167;01mFileNotFoundError\u001B[39;00m(\u001B[38;5;124mf\u001B[39m\u001B[38;5;124m\"\u001B[39m\u001B[38;5;124mCouldn\u001B[39m\u001B[38;5;124m'\u001B[39m\u001B[38;5;124mt find any class folder in \u001B[39m\u001B[38;5;132;01m{\u001B[39;00mdirectory\u001B[38;5;132;01m}\u001B[39;00m\u001B[38;5;124m.\u001B[39m\u001B[38;5;124m\"\u001B[39m)\n",
      "\u001B[1;31mFileNotFoundError\u001B[0m: [WinError 3] The system cannot find the path specified: './data/toys_dataset/images'"
     ]
    }
   ],
   "source": [
    "# dataFromLocal = torchvision.datasets.ImageFolder(root='./data/toys_dataset/images', transform=Transform)\n",
    "# dataLoader = torch.utils.data.DataLoader(dataFromLocal, shuffle=True, batch_size=300)"
   ],
   "metadata": {
    "collapsed": false,
    "ExecuteTime": {
     "end_time": "2023-12-30T23:50:24.851752300Z",
     "start_time": "2023-12-30T23:50:24.457631200Z"
    }
   },
   "id": "c3eacd4158d27644"
  },
  {
   "cell_type": "code",
   "execution_count": null,
   "outputs": [],
   "source": [
    "# dataLoader.dataset[-1][0]"
   ],
   "metadata": {
    "collapsed": false,
    "ExecuteTime": {
     "end_time": "2023-12-30T23:50:24.852753400Z",
     "start_time": "2023-12-30T23:50:24.851752300Z"
    }
   },
   "id": "c2dd91b535cee5d7"
  },
  {
   "cell_type": "code",
   "outputs": [],
   "source": [
    "images_panda = np.zeros((105, 3 * 100 * 100))\n",
    "images_rabbit = np.zeros((150, 3 * 100 * 100))\n",
    "for i, img in enumerate(os.listdir('../toys_dataset/images/Panda')):\n",
    "    im = Image.open('../toys_dataset/images/Panda/' + img)\n",
    "    im = im.resize((100, 100))\n",
    "    images_panda[i] = np.array(im).reshape(3 * 100 * 100)\n",
    "for i, img in enumerate(os.listdir('../toys_dataset/images/Rabbit')):\n",
    "    im = Image.open('../toys_dataset/images/Rabbit/' + img)\n",
    "    im = im.resize((100, 100))\n",
    "    images_rabbit[i] = np.array(im).reshape(3 * 100 * 100)\n",
    "images_panda = images_panda / 255.\n",
    "images_rabbit = images_rabbit / 255."
   ],
   "metadata": {
    "collapsed": false,
    "ExecuteTime": {
     "end_time": "2023-12-30T23:51:13.828345900Z",
     "start_time": "2023-12-30T23:51:10.459689600Z"
    }
   },
   "id": "4af11c005fc19f57",
   "execution_count": 7
  },
  {
   "cell_type": "code",
   "execution_count": 8,
   "outputs": [
    {
     "data": {
      "text/plain": "((105, 30000), (150, 30000))"
     },
     "execution_count": 8,
     "metadata": {},
     "output_type": "execute_result"
    }
   ],
   "source": [
    "images_panda.shape, images_rabbit.shape"
   ],
   "metadata": {
    "collapsed": false,
    "ExecuteTime": {
     "end_time": "2023-12-30T23:51:13.839435600Z",
     "start_time": "2023-12-30T23:51:13.829347300Z"
    }
   },
   "id": "c77185c0add88357"
  },
  {
   "cell_type": "code",
   "outputs": [],
   "source": [
    "images = np.concatenate((images_panda, images_rabbit))"
   ],
   "metadata": {
    "collapsed": false,
    "ExecuteTime": {
     "end_time": "2023-12-30T23:51:14.135206600Z",
     "start_time": "2023-12-30T23:51:14.120850400Z"
    }
   },
   "id": "8df267303c298334",
   "execution_count": 9
  },
  {
   "cell_type": "code",
   "execution_count": 10,
   "outputs": [],
   "source": [
    "images = torch.from_numpy(images)"
   ],
   "metadata": {
    "collapsed": false,
    "ExecuteTime": {
     "end_time": "2023-12-30T23:51:14.856127600Z",
     "start_time": "2023-12-30T23:51:14.851620900Z"
    }
   },
   "id": "23813619f2a65b52"
  },
  {
   "cell_type": "code",
   "outputs": [],
   "source": [
    "images = images.to(torch.float32)"
   ],
   "metadata": {
    "collapsed": false,
    "ExecuteTime": {
     "end_time": "2023-12-30T23:51:15.915893200Z",
     "start_time": "2023-12-30T23:51:15.892000500Z"
    }
   },
   "id": "a85e6efa76b2b20c",
   "execution_count": 11
  },
  {
   "cell_type": "code",
   "outputs": [
    {
     "data": {
      "text/plain": "<matplotlib.image.AxesImage at 0x20b6ce65a90>"
     },
     "execution_count": 12,
     "metadata": {},
     "output_type": "execute_result"
    },
    {
     "data": {
      "text/plain": "<Figure size 640x480 with 1 Axes>",
      "image/png": "[encoded data removed]"
     },
     "metadata": {},
     "output_type": "display_data"
    }
   ],
   "source": [
    "plt.imshow(images[0].reshape(100, 100, 3))"
   ],
   "metadata": {
    "collapsed": false,
    "ExecuteTime": {
     "end_time": "2023-12-30T23:51:16.720204200Z",
     "start_time": "2023-12-30T23:51:16.628311300Z"
    }
   },
   "id": "e0e850e2774dfed0",
   "execution_count": 12
  },
  {
   "cell_type": "code",
   "outputs": [],
   "source": [
    "model = VAE(input_dim=30000, latent_dim=20, hidden_dim=300)"
   ],
   "metadata": {
    "collapsed": false,
    "ExecuteTime": {
     "start_time": "2023-12-30T23:50:24.859754400Z"
    }
   },
   "id": "760fc7299df4a4ea",
   "execution_count": null
  },
  {
   "cell_type": "code",
   "execution_count": null,
   "id": "6a2886354e027770",
   "metadata": {
    "collapsed": false,
    "ExecuteTime": {
     "end_time": "2023-12-30T23:50:24.862750800Z",
     "start_time": "2023-12-30T23:50:24.861752400Z"
    }
   },
   "outputs": [],
   "source": [
    "model"
   ]
  },
  {
   "cell_type": "code",
   "outputs": [],
   "source": [
    "torch.cuda.is_available()"
   ],
   "metadata": {
    "collapsed": false,
    "ExecuteTime": {
     "start_time": "2023-12-30T23:50:24.863752500Z"
    }
   },
   "id": "788fd727b7c0c607",
   "execution_count": null
  },
  {
   "cell_type": "code",
   "outputs": [],
   "source": [
    "_, x_reconstructed = model.Train(images, epochs=1000)"
   ],
   "metadata": {
    "collapsed": false,
    "ExecuteTime": {
     "start_time": "2023-12-30T23:50:24.864752600Z"
    }
   },
   "id": "c7179342f94ccad9",
   "execution_count": null
  },
  {
   "cell_type": "code",
   "execution_count": null,
   "outputs": [],
   "source": [
    "x_reconstructed.shape"
   ],
   "metadata": {
    "collapsed": false,
    "ExecuteTime": {
     "start_time": "2023-12-30T23:50:24.865750600Z"
    }
   },
   "id": "5c90c626b569a192"
  },
  {
   "cell_type": "code",
   "execution_count": null,
   "outputs": [],
   "source": [
    "x_reconstructed[0].shape"
   ],
   "metadata": {
    "collapsed": false,
    "ExecuteTime": {
     "start_time": "2023-12-30T23:50:24.866752100Z"
    }
   },
   "id": "42c84e109a768ce2"
  },
  {
   "cell_type": "code",
   "execution_count": null,
   "outputs": [],
   "source": [
    "plt.imshow(x_reconstructed[0].detach().numpy().reshape(100, 100, 3))"
   ],
   "metadata": {
    "collapsed": false,
    "ExecuteTime": {
     "start_time": "2023-12-30T23:50:24.868749200Z"
    }
   },
   "id": "8b15dffe9ccdef78"
  },
  {
   "cell_type": "code",
   "outputs": [],
   "source": [
    "\n",
    "import matplotlib.pyplot as plt\n",
    "\n",
    "\n",
    "def plotting(num_images=10):\n",
    "    plt.figure(figsize=(20, 20))\n",
    "    f = plt.gcf()\n",
    "    for i in range(num_images):\n",
    "        # display original\n",
    "        ax = plt.subplot(10, 2, 2 * i + 1)\n",
    "        plt.imshow(images[i].reshape(100, 100, 3))\n",
    "        plt.gray()\n",
    "        ax.get_xaxis().set_visible(False)\n",
    "        ax.get_yaxis().set_visible(False)\n",
    "\n",
    "        # display reconstruction\n",
    "        ax = plt.subplot(10, 2, 2 * i + 2)\n",
    "        plt.imshow(x_reconstructed[i].detach().numpy().reshape(100, 100, 3))\n",
    "        plt.gray()\n",
    "        ax.get_xaxis().set_visible(False)\n",
    "        ax.get_yaxis().set_visible(False)\n",
    "    fig = plt.gcf()\n",
    "    fig.savefig('Reconstructed.jpeg')\n",
    "    created_image = Image.open('Reconstructed.jpeg')\n",
    "    plt.show()\n",
    "    return created_image"
   ],
   "metadata": {
    "collapsed": false,
    "ExecuteTime": {
     "start_time": "2023-12-30T23:50:24.869753200Z"
    }
   },
   "id": "960c4eb172428a7d",
   "execution_count": null
  },
  {
   "cell_type": "code",
   "outputs": [],
   "source": [
    "created_image = plotting(2)"
   ],
   "metadata": {
    "collapsed": false,
    "ExecuteTime": {
     "end_time": "2023-12-30T23:50:24.875750600Z",
     "start_time": "2023-12-30T23:50:24.869753200Z"
    }
   },
   "id": "f4840103c774d5be",
   "execution_count": null
  },
  {
   "cell_type": "code",
   "outputs": [],
   "source": [
    "interface = gradio.Interface(\n",
    "    plotting,\n",
    "    gradio.Slider(1, 10, label=\"Choose number images\", step=1),\n",
    "    gradio.Image(label=\"Reconstructed Images\", show_label=True)\n",
    ")"
   ],
   "metadata": {
    "collapsed": false,
    "ExecuteTime": {
     "start_time": "2023-12-30T23:50:24.870751600Z"
    }
   },
   "id": "a64c42db5851c4c5",
   "execution_count": null
  },
  {
   "cell_type": "code",
   "outputs": [],
   "source": [
    "interface.launch()"
   ],
   "metadata": {
    "collapsed": false,
    "ExecuteTime": {
     "start_time": "2023-12-30T23:50:24.871751500Z"
    }
   },
   "id": "dd53525a9da15a66",
   "execution_count": null
  }
 ],
 "metadata": {
  "kernelspec": {
   "display_name": "Python 3",
   "language": "python",
   "name": "python3"
  },
  "language_info": {
   "codemirror_mode": {
    "name": "ipython",
    "version": 3
   },
   "file_extension": ".py",
   "mimetype": "text/x-python",
   "name": "python",
   "nbconvert_exporter": "python",
   "pygments_lexer": "ipython3",
   "version": "3.11.5"
  }
 },
 "nbformat": 4,
 "nbformat_minor": 5
}
