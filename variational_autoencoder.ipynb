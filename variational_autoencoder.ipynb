{
 "cells": [
  {
   "cell_type": "code",
   "execution_count": 1,
   "id": "61939a0d",
   "metadata": {
    "collapsed": true,
    "execution": {
     "iopub.execute_input": "2023-12-31T00:07:24.186120Z",
     "iopub.status.busy": "2023-12-31T00:07:24.185771Z",
     "iopub.status.idle": "2023-12-31T00:07:53.910268Z",
     "shell.execute_reply": "2023-12-31T00:07:53.909187Z"
    },
    "jupyter": {
     "outputs_hidden": true
    },
    "papermill": {
     "duration": 29.737799,
     "end_time": "2023-12-31T00:07:53.912840",
     "exception": false,
     "start_time": "2023-12-31T00:07:24.175041",
     "status": "completed"
    },
    "tags": []
   },
   "outputs": [
    {
     "name": "stdout",
     "output_type": "stream",
     "text": [
      "Collecting gradio\r\n",
      "  Obtaining dependency information for gradio from https://files.pythonhosted.org/packages/d8/3c/fcfa9f2f9b97e9c38ccb30eb3edef8acbb284487bc7d8f5b98daf01cf757/gradio-4.12.0-py3-none-any.whl.metadata\r\n",
      "  Downloading gradio-4.12.0-py3-none-any.whl.metadata (15 kB)\r\n",
      "Collecting aiofiles<24.0,>=22.0 (from gradio)\r\n",
      "  Obtaining dependency information for aiofiles<24.0,>=22.0 from https://files.pythonhosted.org/packages/c5/19/5af6804c4cc0fed83f47bff6e413a98a36618e7d40185cd36e69737f3b0e/aiofiles-23.2.1-py3-none-any.whl.metadata\r\n",
      "  Downloading aiofiles-23.2.1-py3-none-any.whl.metadata (9.7 kB)\r\n",
      "Requirement already satisfied: altair<6.0,>=4.2.0 in /opt/conda/lib/python3.10/site-packages (from gradio) (5.2.0)\r\n",
      "Requirement already satisfied: fastapi in /opt/conda/lib/python3.10/site-packages (from gradio) (0.101.1)\r\n",
      "Collecting ffmpy (from gradio)\r\n",
      "  Downloading ffmpy-0.3.1.tar.gz (5.5 kB)\r\n",
      "  Preparing metadata (setup.py) ... \u001b[?25l-\b \bdone\r\n",
      "\u001b[?25hCollecting gradio-client==0.8.0 (from gradio)\r\n",
      "  Obtaining dependency information for gradio-client==0.8.0 from https://files.pythonhosted.org/packages/c4/e7/5da3a4b6108f5e2e43d034d7923c3562f93beba8f3d13a0ec7c201a6f33c/gradio_client-0.8.0-py3-none-any.whl.metadata\r\n",
      "  Downloading gradio_client-0.8.0-py3-none-any.whl.metadata (7.1 kB)\r\n",
      "Collecting httpx (from gradio)\r\n",
      "  Obtaining dependency information for httpx from https://files.pythonhosted.org/packages/39/9b/4937d841aee9c2c8102d9a4eeb800c7dad25386caabb4a1bf5010df81a57/httpx-0.26.0-py3-none-any.whl.metadata\r\n",
      "  Downloading httpx-0.26.0-py3-none-any.whl.metadata (7.6 kB)\r\n",
      "Requirement already satisfied: huggingface-hub>=0.19.3 in /opt/conda/lib/python3.10/site-packages (from gradio) (0.19.4)\r\n",
      "Requirement already satisfied: importlib-resources<7.0,>=1.3 in /opt/conda/lib/python3.10/site-packages (from gradio) (5.13.0)\r\n",
      "Requirement already satisfied: jinja2<4.0 in /opt/conda/lib/python3.10/site-packages (from gradio) (3.1.2)\r\n",
      "Requirement already satisfied: markupsafe~=2.0 in /opt/conda/lib/python3.10/site-packages (from gradio) (2.1.3)\r\n",
      "Requirement already satisfied: matplotlib~=3.0 in /opt/conda/lib/python3.10/site-packages (from gradio) (3.7.4)\r\n",
      "Requirement already satisfied: numpy~=1.0 in /opt/conda/lib/python3.10/site-packages (from gradio) (1.24.3)\r\n",
      "Requirement already satisfied: orjson~=3.0 in /opt/conda/lib/python3.10/site-packages (from gradio) (3.9.5)\r\n",
      "Requirement already satisfied: packaging in /opt/conda/lib/python3.10/site-packages (from gradio) (21.3)\r\n",
      "Requirement already satisfied: pandas<3.0,>=1.0 in /opt/conda/lib/python3.10/site-packages (from gradio) (2.0.3)\r\n",
      "Requirement already satisfied: pillow<11.0,>=8.0 in /opt/conda/lib/python3.10/site-packages (from gradio) (10.1.0)\r\n",
      "Collecting pydantic>=2.0 (from gradio)\r\n",
      "  Obtaining dependency information for pydantic>=2.0 from https://files.pythonhosted.org/packages/dd/b7/9aea7ee6c01fe3f3c03b8ca3c7797c866df5fecece9d6cb27caa138db2e2/pydantic-2.5.3-py3-none-any.whl.metadata\r\n",
      "  Downloading pydantic-2.5.3-py3-none-any.whl.metadata (65 kB)\r\n",
      "\u001b[2K     \u001b[90m━━━━━━━━━━━━━━━━━━━━━━━━━━━━━━━━━━━━━━━━\u001b[0m \u001b[32m65.6/65.6 kB\u001b[0m \u001b[31m4.6 MB/s\u001b[0m eta \u001b[36m0:00:00\u001b[0m\r\n",
      "\u001b[?25hRequirement already satisfied: pydub in /opt/conda/lib/python3.10/site-packages (from gradio) (0.25.1)\r\n",
      "Collecting python-multipart (from gradio)\r\n",
      "  Downloading python_multipart-0.0.6-py3-none-any.whl (45 kB)\r\n",
      "\u001b[2K     \u001b[90m━━━━━━━━━━━━━━━━━━━━━━━━━━━━━━━━━━━━━━━━\u001b[0m \u001b[32m45.7/45.7 kB\u001b[0m \u001b[31m4.3 MB/s\u001b[0m eta \u001b[36m0:00:00\u001b[0m\r\n",
      "\u001b[?25hRequirement already satisfied: pyyaml<7.0,>=5.0 in /opt/conda/lib/python3.10/site-packages (from gradio) (6.0.1)\r\n",
      "Collecting semantic-version~=2.0 (from gradio)\r\n",
      "  Downloading semantic_version-2.10.0-py2.py3-none-any.whl (15 kB)\r\n",
      "Collecting tomlkit==0.12.0 (from gradio)\r\n",
      "  Obtaining dependency information for tomlkit==0.12.0 from https://files.pythonhosted.org/packages/68/4f/12207897848a653d03ebbf6775a29d949408ded5f99b2d87198bc5c93508/tomlkit-0.12.0-py3-none-any.whl.metadata\r\n",
      "  Downloading tomlkit-0.12.0-py3-none-any.whl.metadata (2.7 kB)\r\n",
      "Requirement already satisfied: typer[all]<1.0,>=0.9 in /opt/conda/lib/python3.10/site-packages (from gradio) (0.9.0)\r\n",
      "Requirement already satisfied: typing-extensions~=4.0 in /opt/conda/lib/python3.10/site-packages (from gradio) (4.5.0)\r\n",
      "Requirement already satisfied: uvicorn>=0.14.0 in /opt/conda/lib/python3.10/site-packages (from gradio) (0.23.2)\r\n",
      "Requirement already satisfied: fsspec in /opt/conda/lib/python3.10/site-packages (from gradio-client==0.8.0->gradio) (2023.12.2)\r\n",
      "Collecting websockets<12.0,>=10.0 (from gradio-client==0.8.0->gradio)\r\n",
      "  Downloading websockets-11.0.3-cp310-cp310-manylinux_2_5_x86_64.manylinux1_x86_64.manylinux_2_17_x86_64.manylinux2014_x86_64.whl (129 kB)\r\n",
      "\u001b[2K     \u001b[90m━━━━━━━━━━━━━━━━━━━━━━━━━━━━━━━━━━━━━━━\u001b[0m \u001b[32m129.9/129.9 kB\u001b[0m \u001b[31m9.3 MB/s\u001b[0m eta \u001b[36m0:00:00\u001b[0m\r\n",
      "\u001b[?25hRequirement already satisfied: jsonschema>=3.0 in /opt/conda/lib/python3.10/site-packages (from altair<6.0,>=4.2.0->gradio) (4.19.0)\r\n",
      "Requirement already satisfied: toolz in /opt/conda/lib/python3.10/site-packages (from altair<6.0,>=4.2.0->gradio) (0.12.0)\r\n",
      "Requirement already satisfied: filelock in /opt/conda/lib/python3.10/site-packages (from huggingface-hub>=0.19.3->gradio) (3.12.2)\r\n",
      "Requirement already satisfied: requests in /opt/conda/lib/python3.10/site-packages (from huggingface-hub>=0.19.3->gradio) (2.31.0)\r\n",
      "Requirement already satisfied: tqdm>=4.42.1 in /opt/conda/lib/python3.10/site-packages (from huggingface-hub>=0.19.3->gradio) (4.66.1)\r\n",
      "Requirement already satisfied: contourpy>=1.0.1 in /opt/conda/lib/python3.10/site-packages (from matplotlib~=3.0->gradio) (1.1.0)\r\n",
      "Requirement already satisfied: cycler>=0.10 in /opt/conda/lib/python3.10/site-packages (from matplotlib~=3.0->gradio) (0.11.0)\r\n",
      "Requirement already satisfied: fonttools>=4.22.0 in /opt/conda/lib/python3.10/site-packages (from matplotlib~=3.0->gradio) (4.42.1)\r\n",
      "Requirement already satisfied: kiwisolver>=1.0.1 in /opt/conda/lib/python3.10/site-packages (from matplotlib~=3.0->gradio) (1.4.4)\r\n",
      "Requirement already satisfied: pyparsing>=2.3.1 in /opt/conda/lib/python3.10/site-packages (from matplotlib~=3.0->gradio) (3.0.9)\r\n",
      "Requirement already satisfied: python-dateutil>=2.7 in /opt/conda/lib/python3.10/site-packages (from matplotlib~=3.0->gradio) (2.8.2)\r\n",
      "Requirement already satisfied: pytz>=2020.1 in /opt/conda/lib/python3.10/site-packages (from pandas<3.0,>=1.0->gradio) (2023.3)\r\n",
      "Requirement already satisfied: tzdata>=2022.1 in /opt/conda/lib/python3.10/site-packages (from pandas<3.0,>=1.0->gradio) (2023.3)\r\n",
      "Requirement already satisfied: annotated-types>=0.4.0 in /opt/conda/lib/python3.10/site-packages (from pydantic>=2.0->gradio) (0.6.0)\r\n",
      "Collecting pydantic-core==2.14.6 (from pydantic>=2.0->gradio)\r\n",
      "  Obtaining dependency information for pydantic-core==2.14.6 from https://files.pythonhosted.org/packages/90/28/3c6843e6b203999be2660d3f114be196f2182dcac533dc764ad320c9184d/pydantic_core-2.14.6-cp310-cp310-manylinux_2_17_x86_64.manylinux2014_x86_64.whl.metadata\r\n",
      "  Downloading pydantic_core-2.14.6-cp310-cp310-manylinux_2_17_x86_64.manylinux2014_x86_64.whl.metadata (6.5 kB)\r\n",
      "Collecting typing-extensions~=4.0 (from gradio)\r\n",
      "  Obtaining dependency information for typing-extensions~=4.0 from https://files.pythonhosted.org/packages/b7/f4/6a90020cd2d93349b442bfcb657d0dc91eee65491600b2cb1d388bc98e6b/typing_extensions-4.9.0-py3-none-any.whl.metadata\r\n",
      "  Downloading typing_extensions-4.9.0-py3-none-any.whl.metadata (3.0 kB)\r\n",
      "Requirement already satisfied: click<9.0.0,>=7.1.1 in /opt/conda/lib/python3.10/site-packages (from typer[all]<1.0,>=0.9->gradio) (8.1.7)\r\n",
      "Requirement already satisfied: colorama<0.5.0,>=0.4.3 in /opt/conda/lib/python3.10/site-packages (from typer[all]<1.0,>=0.9->gradio) (0.4.6)\r\n",
      "Requirement already satisfied: shellingham<2.0.0,>=1.3.0 in /opt/conda/lib/python3.10/site-packages (from typer[all]<1.0,>=0.9->gradio) (1.5.4)\r\n",
      "Requirement already satisfied: rich<14.0.0,>=10.11.0 in /opt/conda/lib/python3.10/site-packages (from typer[all]<1.0,>=0.9->gradio) (13.5.2)\r\n",
      "Requirement already satisfied: h11>=0.8 in /opt/conda/lib/python3.10/site-packages (from uvicorn>=0.14.0->gradio) (0.14.0)\r\n",
      "Requirement already satisfied: starlette<0.28.0,>=0.27.0 in /opt/conda/lib/python3.10/site-packages (from fastapi->gradio) (0.27.0)\r\n",
      "Requirement already satisfied: anyio in /opt/conda/lib/python3.10/site-packages (from httpx->gradio) (3.7.1)\r\n",
      "Requirement already satisfied: certifi in /opt/conda/lib/python3.10/site-packages (from httpx->gradio) (2023.11.17)\r\n",
      "Collecting httpcore==1.* (from httpx->gradio)\r\n",
      "  Obtaining dependency information for httpcore==1.* from https://files.pythonhosted.org/packages/56/ba/78b0a99c4da0ff8b0f59defa2f13ca4668189b134bd9840b6202a93d9a0f/httpcore-1.0.2-py3-none-any.whl.metadata\r\n",
      "  Downloading httpcore-1.0.2-py3-none-any.whl.metadata (20 kB)\r\n",
      "Requirement already satisfied: idna in /opt/conda/lib/python3.10/site-packages (from httpx->gradio) (3.4)\r\n",
      "Requirement already satisfied: sniffio in /opt/conda/lib/python3.10/site-packages (from httpx->gradio) (1.3.0)\r\n",
      "Requirement already satisfied: attrs>=22.2.0 in /opt/conda/lib/python3.10/site-packages (from jsonschema>=3.0->altair<6.0,>=4.2.0->gradio) (23.1.0)\r\n",
      "Requirement already satisfied: jsonschema-specifications>=2023.03.6 in /opt/conda/lib/python3.10/site-packages (from jsonschema>=3.0->altair<6.0,>=4.2.0->gradio) (2023.7.1)\r\n",
      "Requirement already satisfied: referencing>=0.28.4 in /opt/conda/lib/python3.10/site-packages (from jsonschema>=3.0->altair<6.0,>=4.2.0->gradio) (0.30.2)\r\n",
      "Requirement already satisfied: rpds-py>=0.7.1 in /opt/conda/lib/python3.10/site-packages (from jsonschema>=3.0->altair<6.0,>=4.2.0->gradio) (0.9.2)\r\n",
      "Requirement already satisfied: six>=1.5 in /opt/conda/lib/python3.10/site-packages (from python-dateutil>=2.7->matplotlib~=3.0->gradio) (1.16.0)\r\n",
      "Requirement already satisfied: markdown-it-py>=2.2.0 in /opt/conda/lib/python3.10/site-packages (from rich<14.0.0,>=10.11.0->typer[all]<1.0,>=0.9->gradio) (3.0.0)\r\n",
      "Requirement already satisfied: pygments<3.0.0,>=2.13.0 in /opt/conda/lib/python3.10/site-packages (from rich<14.0.0,>=10.11.0->typer[all]<1.0,>=0.9->gradio) (2.16.1)\r\n",
      "Requirement already satisfied: exceptiongroup in /opt/conda/lib/python3.10/site-packages (from anyio->httpx->gradio) (1.1.3)\r\n",
      "Requirement already satisfied: charset-normalizer<4,>=2 in /opt/conda/lib/python3.10/site-packages (from requests->huggingface-hub>=0.19.3->gradio) (3.2.0)\r\n",
      "Requirement already satisfied: urllib3<3,>=1.21.1 in /opt/conda/lib/python3.10/site-packages (from requests->huggingface-hub>=0.19.3->gradio) (1.26.15)\r\n",
      "Requirement already satisfied: mdurl~=0.1 in /opt/conda/lib/python3.10/site-packages (from markdown-it-py>=2.2.0->rich<14.0.0,>=10.11.0->typer[all]<1.0,>=0.9->gradio) (0.1.0)\r\n",
      "Downloading gradio-4.12.0-py3-none-any.whl (16.6 MB)\r\n",
      "\u001b[2K   \u001b[90m━━━━━━━━━━━━━━━━━━━━━━━━━━━━━━━━━━━━━━━━\u001b[0m \u001b[32m16.6/16.6 MB\u001b[0m \u001b[31m66.1 MB/s\u001b[0m eta \u001b[36m0:00:00\u001b[0m\r\n",
      "\u001b[?25hDownloading gradio_client-0.8.0-py3-none-any.whl (305 kB)\r\n",
      "\u001b[2K   \u001b[90m━━━━━━━━━━━━━━━━━━━━━━━━━━━━━━━━━━━━━━━━\u001b[0m \u001b[32m305.1/305.1 kB\u001b[0m \u001b[31m28.9 MB/s\u001b[0m eta \u001b[36m0:00:00\u001b[0m\r\n",
      "\u001b[?25hDownloading tomlkit-0.12.0-py3-none-any.whl (37 kB)\r\n",
      "Downloading aiofiles-23.2.1-py3-none-any.whl (15 kB)\r\n",
      "Downloading pydantic-2.5.3-py3-none-any.whl (381 kB)\r\n",
      "\u001b[2K   \u001b[90m━━━━━━━━━━━━━━━━━━━━━━━━━━━━━━━━━━━━━━━━\u001b[0m \u001b[32m381.9/381.9 kB\u001b[0m \u001b[31m33.4 MB/s\u001b[0m eta \u001b[36m0:00:00\u001b[0m\r\n",
      "\u001b[?25hDownloading pydantic_core-2.14.6-cp310-cp310-manylinux_2_17_x86_64.manylinux2014_x86_64.whl (2.1 MB)\r\n",
      "\u001b[2K   \u001b[90m━━━━━━━━━━━━━━━━━━━━━━━━━━━━━━━━━━━━━━━━\u001b[0m \u001b[32m2.1/2.1 MB\u001b[0m \u001b[31m71.0 MB/s\u001b[0m eta \u001b[36m0:00:00\u001b[0m\r\n",
      "\u001b[?25hDownloading typing_extensions-4.9.0-py3-none-any.whl (32 kB)\r\n",
      "Downloading httpx-0.26.0-py3-none-any.whl (75 kB)\r\n",
      "\u001b[2K   \u001b[90m━━━━━━━━━━━━━━━━━━━━━━━━━━━━━━━━━━━━━━━━\u001b[0m \u001b[32m75.9/75.9 kB\u001b[0m \u001b[31m8.7 MB/s\u001b[0m eta \u001b[36m0:00:00\u001b[0m\r\n",
      "\u001b[?25hDownloading httpcore-1.0.2-py3-none-any.whl (76 kB)\r\n",
      "\u001b[2K   \u001b[90m━━━━━━━━━━━━━━━━━━━━━━━━━━━━━━━━━━━━━━━━\u001b[0m \u001b[32m76.9/76.9 kB\u001b[0m \u001b[31m7.6 MB/s\u001b[0m eta \u001b[36m0:00:00\u001b[0m\r\n",
      "\u001b[?25hBuilding wheels for collected packages: ffmpy\r\n",
      "  Building wheel for ffmpy (setup.py) ... \u001b[?25l-\b \b\\\b \bdone\r\n",
      "\u001b[?25h  Created wheel for ffmpy: filename=ffmpy-0.3.1-py3-none-any.whl size=5579 sha256=565837f08a5fd2fe85cd9ef57a61d591f2c2725228199ae13c4c5bc69c7d8868\r\n",
      "  Stored in directory: /root/.cache/pip/wheels/01/a6/d1/1c0828c304a4283b2c1639a09ad86f83d7c487ef34c6b4a1bf\r\n",
      "Successfully built ffmpy\r\n",
      "Installing collected packages: ffmpy, websockets, typing-extensions, tomlkit, semantic-version, python-multipart, httpcore, aiofiles, pydantic-core, httpx, pydantic, gradio-client, gradio\r\n",
      "  Attempting uninstall: websockets\r\n",
      "    Found existing installation: websockets 12.0\r\n",
      "    Uninstalling websockets-12.0:\r\n",
      "      Successfully uninstalled websockets-12.0\r\n",
      "  Attempting uninstall: typing-extensions\r\n",
      "    Found existing installation: typing_extensions 4.5.0\r\n",
      "    Uninstalling typing_extensions-4.5.0:\r\n",
      "      Successfully uninstalled typing_extensions-4.5.0\r\n",
      "  Attempting uninstall: tomlkit\r\n",
      "    Found existing installation: tomlkit 0.12.3\r\n",
      "    Uninstalling tomlkit-0.12.3:\r\n",
      "      Successfully uninstalled tomlkit-0.12.3\r\n",
      "  Attempting uninstall: pydantic-core\r\n",
      "    Found existing installation: pydantic_core 2.14.5\r\n",
      "    Uninstalling pydantic_core-2.14.5:\r\n",
      "      Successfully uninstalled pydantic_core-2.14.5\r\n",
      "  Attempting uninstall: pydantic\r\n",
      "    Found existing installation: pydantic 1.10.12\r\n",
      "    Uninstalling pydantic-1.10.12:\r\n",
      "      Successfully uninstalled pydantic-1.10.12\r\n",
      "\u001b[31mERROR: pip's dependency resolver does not currently take into account all the packages that are installed. This behaviour is the source of the following dependency conflicts.\r\n",
      "cudf 23.8.0 requires cupy-cuda11x>=12.0.0, which is not installed.\r\n",
      "cuml 23.8.0 requires cupy-cuda11x>=12.0.0, which is not installed.\r\n",
      "dask-cudf 23.8.0 requires cupy-cuda11x>=12.0.0, which is not installed.\r\n",
      "apache-beam 2.46.0 requires dill<0.3.2,>=0.3.1.1, but you have dill 0.3.7 which is incompatible.\r\n",
      "apache-beam 2.46.0 requires pyarrow<10.0.0,>=3.0.0, but you have pyarrow 11.0.0 which is incompatible.\r\n",
      "cudf 23.8.0 requires pandas<1.6.0dev0,>=1.3, but you have pandas 2.0.3 which is incompatible.\r\n",
      "cudf 23.8.0 requires protobuf<5,>=4.21, but you have protobuf 3.20.3 which is incompatible.\r\n",
      "cuml 23.8.0 requires dask==2023.7.1, but you have dask 2023.12.0 which is incompatible.\r\n",
      "cuml 23.8.0 requires distributed==2023.7.1, but you have distributed 2023.12.0 which is incompatible.\r\n",
      "dask-cudf 23.8.0 requires dask==2023.7.1, but you have dask 2023.12.0 which is incompatible.\r\n",
      "dask-cudf 23.8.0 requires distributed==2023.7.1, but you have distributed 2023.12.0 which is incompatible.\r\n",
      "dask-cudf 23.8.0 requires pandas<1.6.0dev0,>=1.3, but you have pandas 2.0.3 which is incompatible.\r\n",
      "jupyterlab 4.0.5 requires jupyter-lsp>=2.0.0, but you have jupyter-lsp 1.5.1 which is incompatible.\r\n",
      "jupyterlab-lsp 5.0.1 requires jupyter-lsp>=2.0.0, but you have jupyter-lsp 1.5.1 which is incompatible.\r\n",
      "jupyterlab-lsp 5.0.1 requires jupyterlab<5.0.0a0,>=4.0.6, but you have jupyterlab 4.0.5 which is incompatible.\r\n",
      "pymc3 3.11.5 requires numpy<1.22.2,>=1.15.0, but you have numpy 1.24.3 which is incompatible.\r\n",
      "pymc3 3.11.5 requires scipy<1.8.0,>=1.7.3, but you have scipy 1.11.4 which is incompatible.\r\n",
      "tensorflow 2.13.0 requires typing-extensions<4.6.0,>=3.6.6, but you have typing-extensions 4.9.0 which is incompatible.\r\n",
      "tensorflow-probability 0.21.0 requires typing-extensions<4.6.0, but you have typing-extensions 4.9.0 which is incompatible.\r\n",
      "tensorflowjs 4.14.0 requires packaging~=23.1, but you have packaging 21.3 which is incompatible.\r\n",
      "ydata-profiling 4.5.1 requires numpy<1.24,>=1.16.0, but you have numpy 1.24.3 which is incompatible.\r\n",
      "ydata-profiling 4.5.1 requires pydantic<2,>=1.8.1, but you have pydantic 2.5.3 which is incompatible.\u001b[0m\u001b[31m\r\n",
      "\u001b[0mSuccessfully installed aiofiles-23.2.1 ffmpy-0.3.1 gradio-4.12.0 gradio-client-0.8.0 httpcore-1.0.2 httpx-0.26.0 pydantic-2.5.2 pydantic-core-2.14.6 python-multipart-0.0.6 semantic-version-2.10.0 tomlkit-0.12.0 typing-extensions-4.7.1 websockets-11.0.3\r\n"
     ]
    }
   ],
   "source": [
    "!pip install gradio"
   ]
  },
  {
   "cell_type": "code",
   "execution_count": 2,
   "id": "8c48f91c",
   "metadata": {
    "ExecuteTime": {
     "end_time": "2023-12-30T23:14:36.835957100Z",
     "start_time": "2023-12-30T23:14:34.270562200Z"
    },
    "execution": {
     "iopub.execute_input": "2023-12-31T00:07:53.942112Z",
     "iopub.status.busy": "2023-12-31T00:07:53.941751Z",
     "iopub.status.idle": "2023-12-31T00:08:01.784622Z",
     "shell.execute_reply": "2023-12-31T00:08:01.783833Z"
    },
    "papermill": {
     "duration": 7.860137,
     "end_time": "2023-12-31T00:08:01.787020",
     "exception": false,
     "start_time": "2023-12-31T00:07:53.926883",
     "status": "completed"
    },
    "tags": []
   },
   "outputs": [],
   "source": [
    "import os\n",
    "import gradio\n",
    "import matplotlib.pyplot as plt\n",
    "import numpy as np\n",
    "import torch\n",
    "import torchvision\n",
    "from PIL import Image, ImageChops"
   ]
  },
  {
   "cell_type": "code",
   "execution_count": 3,
   "id": "bdb06f8d",
   "metadata": {
    "ExecuteTime": {
     "end_time": "2023-12-30T23:14:40.386103100Z",
     "start_time": "2023-12-30T23:14:40.358173600Z"
    },
    "collapsed": false,
    "execution": {
     "iopub.execute_input": "2023-12-31T00:08:01.816169Z",
     "iopub.status.busy": "2023-12-31T00:08:01.815557Z",
     "iopub.status.idle": "2023-12-31T00:08:01.879787Z",
     "shell.execute_reply": "2023-12-31T00:08:01.878918Z"
    },
    "jupyter": {
     "outputs_hidden": false
    },
    "papermill": {
     "duration": 0.080777,
     "end_time": "2023-12-31T00:08:01.881635",
     "exception": false,
     "start_time": "2023-12-31T00:08:01.800858",
     "status": "completed"
    },
    "tags": []
   },
   "outputs": [
    {
     "data": {
      "text/plain": [
       "True"
      ]
     },
     "execution_count": 3,
     "metadata": {},
     "output_type": "execute_result"
    }
   ],
   "source": [
    "torch.cuda.is_available()"
   ]
  },
  {
   "cell_type": "code",
   "execution_count": 4,
   "id": "5e79c54b",
   "metadata": {
    "ExecuteTime": {
     "end_time": "2023-12-30T23:14:36.848099500Z",
     "start_time": "2023-12-30T23:14:36.840957500Z"
    },
    "collapsed": false,
    "execution": {
     "iopub.execute_input": "2023-12-31T00:08:01.911289Z",
     "iopub.status.busy": "2023-12-31T00:08:01.910924Z",
     "iopub.status.idle": "2023-12-31T00:08:01.925180Z",
     "shell.execute_reply": "2023-12-31T00:08:01.924387Z"
    },
    "jupyter": {
     "outputs_hidden": false
    },
    "papermill": {
     "duration": 0.031391,
     "end_time": "2023-12-31T00:08:01.927227",
     "exception": false,
     "start_time": "2023-12-31T00:08:01.895836",
     "status": "completed"
    },
    "tags": []
   },
   "outputs": [],
   "source": [
    "class VAE(torch.nn.Module):\n",
    "    def __init__(self, input_dim, latent_dim, hidden_dim):\n",
    "        super().__init__()\n",
    "\n",
    "        # Encoder\n",
    "        self.input_to_hidden = torch.nn.Linear(input_dim, hidden_dim)\n",
    "        self.hidden_to_mu = torch.nn.Linear(hidden_dim, latent_dim)\n",
    "        self.hidden_to_log_var = torch.nn.Linear(hidden_dim, latent_dim)\n",
    "\n",
    "        # Decoder\n",
    "        self.latent_to_hidden = torch.nn.Linear(latent_dim, hidden_dim)\n",
    "        self.hidden_to_output = torch.nn.Linear(hidden_dim, input_dim)\n",
    "\n",
    "        self.optimizer = torch.optim.Adam(self.parameters(), lr=0.001)\n",
    "\n",
    "    def Encoder(self, x):\n",
    "        h = self.input_to_hidden(x)\n",
    "        mu = self.hidden_to_mu(h)\n",
    "        log_var = self.hidden_to_log_var(h)\n",
    "        return mu, log_var\n",
    "\n",
    "    def Decoder(self, z):\n",
    "        h = self.latent_to_hidden(z)\n",
    "        x_hat = torch.sigmoid(self.hidden_to_output(h))\n",
    "        return x_hat\n",
    "\n",
    "    def forward(self, X):\n",
    "        mu, log_var = self.Encoder(X)\n",
    "        z = self.reparameterize(mu, log_var)\n",
    "        x_hat = self.Decoder(z)\n",
    "        return x_hat, mu, log_var\n",
    "\n",
    "    def loss_function(self, X, x_hat, mu, log_var):\n",
    "        BCE = torch.nn.functional.mse_loss(x_hat, X, reduction='sum')\n",
    "        KLD = -0.5 * torch.sum(1 + log_var - mu.pow(2) - torch.exp(log_var))\n",
    "        return BCE + KLD\n",
    "\n",
    "    def reparameterize(self, mu, logVar):\n",
    "        std = torch.exp(0.5 * logVar)\n",
    "        eps = torch.randn_like(std)\n",
    "        return mu + eps * std\n",
    "\n",
    "    def accuracy(self, X, x_hat):\n",
    "        X = torchvision.transforms.functional.to_pil_image(X)\n",
    "        x_hat = torchvision.transforms.functional.to_pil_image(x_hat)\n",
    "        diff = ImageChops.difference(X, x_hat)\n",
    "        rms = diff.rms  # Calculate RMS value\n",
    "        return rms\n",
    "\n",
    "    def Train(self, X, epochs=100):\n",
    "        history = []\n",
    "        x_hat = None\n",
    "        self.train()\n",
    "        for epoch in range(epochs):\n",
    "            self.optimizer.zero_grad()\n",
    "            x_hat, mean, log_var = self.forward(X)\n",
    "            loss = self.loss_function(X, x_hat, mean, log_var)\n",
    "            loss.backward()\n",
    "            self.optimizer.step()\n",
    "            print(f'Epoch: {epoch}, Loss: {loss.item()}')\n",
    "            history.append(loss.item())\n",
    "\n",
    "        plt.plot(history)\n",
    "        return history, x_hat"
   ]
  },
  {
   "cell_type": "code",
   "execution_count": 5,
   "id": "59216a20",
   "metadata": {
    "ExecuteTime": {
     "end_time": "2023-12-30T23:14:36.849099600Z",
     "start_time": "2023-12-30T23:14:36.845590Z"
    },
    "collapsed": false,
    "execution": {
     "iopub.execute_input": "2023-12-31T00:08:01.956074Z",
     "iopub.status.busy": "2023-12-31T00:08:01.955724Z",
     "iopub.status.idle": "2023-12-31T00:08:01.959811Z",
     "shell.execute_reply": "2023-12-31T00:08:01.959056Z"
    },
    "jupyter": {
     "outputs_hidden": false
    },
    "papermill": {
     "duration": 0.020753,
     "end_time": "2023-12-31T00:08:01.961751",
     "exception": false,
     "start_time": "2023-12-31T00:08:01.940998",
     "status": "completed"
    },
    "tags": []
   },
   "outputs": [],
   "source": [
    "# mnist = torchvision.datasets.MNIST(root='./data', train=True, download=True, transform=torchvision.transforms.ToTensor())\n",
    "# train_loader = torch.utils.data.DataLoader(mnist, shuffle=True, batch_size=mnist.train_data.shape[0])\n",
    "# image, label = next(iter(train_loader))"
   ]
  },
  {
   "cell_type": "code",
   "execution_count": 6,
   "id": "70665ff0",
   "metadata": {
    "ExecuteTime": {
     "end_time": "2023-12-30T23:14:36.854963400Z",
     "start_time": "2023-12-30T23:14:36.849453900Z"
    },
    "collapsed": false,
    "execution": {
     "iopub.execute_input": "2023-12-31T00:08:01.990914Z",
     "iopub.status.busy": "2023-12-31T00:08:01.990565Z",
     "iopub.status.idle": "2023-12-31T00:08:01.994469Z",
     "shell.execute_reply": "2023-12-31T00:08:01.993611Z"
    },
    "jupyter": {
     "outputs_hidden": false
    },
    "papermill": {
     "duration": 0.020513,
     "end_time": "2023-12-31T00:08:01.996343",
     "exception": false,
     "start_time": "2023-12-31T00:08:01.975830",
     "status": "completed"
    },
    "tags": []
   },
   "outputs": [],
   "source": [
    "# Transform = torchvision.transforms.Compose([\n",
    "#     torchvision.transforms.ToTensor(),\n",
    "#     torchvision.transforms.Resize((800, 800)),\n",
    "#     torchvision.transforms.ToPILImage(mode='RGB')\n",
    "# ])"
   ]
  },
  {
   "cell_type": "code",
   "execution_count": 7,
   "id": "14e54858",
   "metadata": {
    "ExecuteTime": {
     "end_time": "2023-12-30T23:14:36.867244900Z",
     "start_time": "2023-12-30T23:14:36.851964800Z"
    },
    "collapsed": false,
    "execution": {
     "iopub.execute_input": "2023-12-31T00:08:02.025274Z",
     "iopub.status.busy": "2023-12-31T00:08:02.024930Z",
     "iopub.status.idle": "2023-12-31T00:08:02.028974Z",
     "shell.execute_reply": "2023-12-31T00:08:02.028170Z"
    },
    "jupyter": {
     "outputs_hidden": false
    },
    "papermill": {
     "duration": 0.021074,
     "end_time": "2023-12-31T00:08:02.031053",
     "exception": false,
     "start_time": "2023-12-31T00:08:02.009979",
     "status": "completed"
    },
    "tags": []
   },
   "outputs": [],
   "source": [
    "# dataFromLocal = torchvision.datasets.ImageFolder(root='./data/toys_dataset/images', transform=Transform)\n",
    "# dataLoader = torch.utils.data.DataLoader(dataFromLocal, shuffle=True, batch_size=300)"
   ]
  },
  {
   "cell_type": "code",
   "execution_count": 8,
   "id": "5416812a",
   "metadata": {
    "ExecuteTime": {
     "end_time": "2023-12-30T23:14:36.971094700Z",
     "start_time": "2023-12-30T23:14:36.860248800Z"
    },
    "collapsed": false,
    "execution": {
     "iopub.execute_input": "2023-12-31T00:08:02.059937Z",
     "iopub.status.busy": "2023-12-31T00:08:02.059643Z",
     "iopub.status.idle": "2023-12-31T00:08:02.063675Z",
     "shell.execute_reply": "2023-12-31T00:08:02.062843Z"
    },
    "jupyter": {
     "outputs_hidden": false
    },
    "papermill": {
     "duration": 0.020833,
     "end_time": "2023-12-31T00:08:02.065626",
     "exception": false,
     "start_time": "2023-12-31T00:08:02.044793",
     "status": "completed"
    },
    "tags": []
   },
   "outputs": [],
   "source": [
    "# dataLoader.dataset[-1][0]"
   ]
  },
  {
   "cell_type": "code",
   "execution_count": 9,
   "id": "21a2abe7",
   "metadata": {
    "execution": {
     "iopub.execute_input": "2023-12-31T00:08:02.094649Z",
     "iopub.status.busy": "2023-12-31T00:08:02.094335Z",
     "iopub.status.idle": "2023-12-31T00:08:02.099538Z",
     "shell.execute_reply": "2023-12-31T00:08:02.098659Z"
    },
    "papermill": {
     "duration": 0.021951,
     "end_time": "2023-12-31T00:08:02.101587",
     "exception": false,
     "start_time": "2023-12-31T00:08:02.079636",
     "status": "completed"
    },
    "tags": []
   },
   "outputs": [],
   "source": [
    "pathToLocalToPanda = '../toys_dataset/images/Panda/'\n",
    "pathToLocalToRabbit = '../toys_dataset/images/Rabbit/'\n",
    "\n",
    "pathToKaggleToPanda = '/kaggle/input/toys-images/images/Panda/'\n",
    "pathToKaggleToRabbit = '/kaggle/input/toys-images/images/Rabbit/'\n",
    "\n",
    "pathToPanda = pathToLocalToPanda if os.path.exists(pathToLocalToPanda) else pathToKaggleToPanda\n",
    "pathToRabbit = pathToLocalToRabbit if os.path.exists(pathToLocalToRabbit) else pathToKaggleToRabbit"
   ]
  },
  {
   "cell_type": "code",
   "execution_count": 10,
   "id": "cb9fd3df",
   "metadata": {
    "ExecuteTime": {
     "end_time": "2023-12-30T23:14:40.181143600Z",
     "start_time": "2023-12-30T23:14:36.969095400Z"
    },
    "collapsed": false,
    "execution": {
     "iopub.execute_input": "2023-12-31T00:08:02.130591Z",
     "iopub.status.busy": "2023-12-31T00:08:02.130280Z",
     "iopub.status.idle": "2023-12-31T00:08:08.466038Z",
     "shell.execute_reply": "2023-12-31T00:08:08.465221Z"
    },
    "jupyter": {
     "outputs_hidden": false
    },
    "papermill": {
     "duration": 6.352672,
     "end_time": "2023-12-31T00:08:08.468319",
     "exception": false,
     "start_time": "2023-12-31T00:08:02.115647",
     "status": "completed"
    },
    "tags": []
   },
   "outputs": [],
   "source": [
    "images_panda = np.zeros((105, 3 * 100 * 100))\n",
    "images_rabbit = np.zeros((150, 3 * 100 * 100))\n",
    "\n",
    "for i, img in enumerate(os.listdir(pathToPanda)):\n",
    "    im = Image.open(pathToPanda + img)\n",
    "    im = im.resize((100, 100))\n",
    "    images_panda[i] = np.array(im).reshape(3 * 100 * 100)\n",
    "for i, img in enumerate(os.listdir(pathToRabbit)):\n",
    "    im = Image.open(pathToRabbit + img)\n",
    "    im = im.resize((100, 100))\n",
    "    images_rabbit[i] = np.array(im).reshape(3 * 100 * 100)"
   ]
  },
  {
   "cell_type": "code",
   "execution_count": 11,
   "id": "7e810a2b",
   "metadata": {
    "execution": {
     "iopub.execute_input": "2023-12-31T00:08:08.497605Z",
     "iopub.status.busy": "2023-12-31T00:08:08.496888Z",
     "iopub.status.idle": "2023-12-31T00:08:08.524374Z",
     "shell.execute_reply": "2023-12-31T00:08:08.523549Z"
    },
    "papermill": {
     "duration": 0.044794,
     "end_time": "2023-12-31T00:08:08.526965",
     "exception": false,
     "start_time": "2023-12-31T00:08:08.482171",
     "status": "completed"
    },
    "tags": []
   },
   "outputs": [],
   "source": [
    "images_panda = images_panda / 255.\n",
    "images_rabbit = images_rabbit / 255."
   ]
  },
  {
   "cell_type": "code",
   "execution_count": 12,
   "id": "4a328490",
   "metadata": {
    "ExecuteTime": {
     "end_time": "2023-12-30T23:14:40.181143600Z",
     "start_time": "2023-12-30T23:14:40.169635700Z"
    },
    "collapsed": false,
    "execution": {
     "iopub.execute_input": "2023-12-31T00:08:08.603796Z",
     "iopub.status.busy": "2023-12-31T00:08:08.603177Z",
     "iopub.status.idle": "2023-12-31T00:08:08.609243Z",
     "shell.execute_reply": "2023-12-31T00:08:08.608398Z"
    },
    "jupyter": {
     "outputs_hidden": false
    },
    "papermill": {
     "duration": 0.070318,
     "end_time": "2023-12-31T00:08:08.611206",
     "exception": false,
     "start_time": "2023-12-31T00:08:08.540888",
     "status": "completed"
    },
    "tags": []
   },
   "outputs": [
    {
     "data": {
      "text/plain": [
       "((105, 30000), (150, 30000))"
      ]
     },
     "execution_count": 12,
     "metadata": {},
     "output_type": "execute_result"
    }
   ],
   "source": [
    "images_panda.shape, images_rabbit.shape"
   ]
  },
  {
   "cell_type": "code",
   "execution_count": 13,
   "id": "9826d74b",
   "metadata": {
    "ExecuteTime": {
     "end_time": "2023-12-30T23:14:40.185095400Z",
     "start_time": "2023-12-30T23:14:40.172144300Z"
    },
    "collapsed": false,
    "execution": {
     "iopub.execute_input": "2023-12-31T00:08:08.639963Z",
     "iopub.status.busy": "2023-12-31T00:08:08.639660Z",
     "iopub.status.idle": "2023-12-31T00:08:08.665195Z",
     "shell.execute_reply": "2023-12-31T00:08:08.664182Z"
    },
    "jupyter": {
     "outputs_hidden": false
    },
    "papermill": {
     "duration": 0.042659,
     "end_time": "2023-12-31T00:08:08.667662",
     "exception": false,
     "start_time": "2023-12-31T00:08:08.625003",
     "status": "completed"
    },
    "tags": []
   },
   "outputs": [],
   "source": [
    "images = np.concatenate((images_panda, images_rabbit))"
   ]
  },
  {
   "cell_type": "code",
   "execution_count": 14,
   "id": "a7922365",
   "metadata": {
    "ExecuteTime": {
     "end_time": "2023-12-30T23:14:40.196895500Z",
     "start_time": "2023-12-30T23:14:40.185095400Z"
    },
    "collapsed": false,
    "execution": {
     "iopub.execute_input": "2023-12-31T00:08:08.698006Z",
     "iopub.status.busy": "2023-12-31T00:08:08.697630Z",
     "iopub.status.idle": "2023-12-31T00:08:08.708665Z",
     "shell.execute_reply": "2023-12-31T00:08:08.707668Z"
    },
    "jupyter": {
     "outputs_hidden": false
    },
    "papermill": {
     "duration": 0.028874,
     "end_time": "2023-12-31T00:08:08.710853",
     "exception": false,
     "start_time": "2023-12-31T00:08:08.681979",
     "status": "completed"
    },
    "tags": []
   },
   "outputs": [],
   "source": [
    "images = torch.from_numpy(images)"
   ]
  },
  {
   "cell_type": "code",
   "execution_count": 15,
   "id": "87072be5",
   "metadata": {
    "ExecuteTime": {
     "end_time": "2023-12-30T23:14:40.228898800Z",
     "start_time": "2023-12-30T23:14:40.188060700Z"
    },
    "collapsed": false,
    "execution": {
     "iopub.execute_input": "2023-12-31T00:08:08.742263Z",
     "iopub.status.busy": "2023-12-31T00:08:08.741451Z",
     "iopub.status.idle": "2023-12-31T00:08:08.776226Z",
     "shell.execute_reply": "2023-12-31T00:08:08.775195Z"
    },
    "jupyter": {
     "outputs_hidden": false
    },
    "papermill": {
     "duration": 0.053036,
     "end_time": "2023-12-31T00:08:08.778805",
     "exception": false,
     "start_time": "2023-12-31T00:08:08.725769",
     "status": "completed"
    },
    "tags": []
   },
   "outputs": [],
   "source": [
    "images = images.to(torch.float32)"
   ]
  },
  {
   "cell_type": "code",
   "execution_count": 16,
   "id": "fbec28f4",
   "metadata": {
    "ExecuteTime": {
     "end_time": "2023-12-30T23:14:40.296722400Z",
     "start_time": "2023-12-30T23:14:40.198899Z"
    },
    "collapsed": false,
    "execution": {
     "iopub.execute_input": "2023-12-31T00:08:08.810228Z",
     "iopub.status.busy": "2023-12-31T00:08:08.809599Z",
     "iopub.status.idle": "2023-12-31T00:08:09.090838Z",
     "shell.execute_reply": "2023-12-31T00:08:09.089932Z"
    },
    "jupyter": {
     "outputs_hidden": false
    },
    "papermill": {
     "duration": 0.298612,
     "end_time": "2023-12-31T00:08:09.092976",
     "exception": false,
     "start_time": "2023-12-31T00:08:08.794364",
     "status": "completed"
    },
    "tags": []
   },
   "outputs": [
    {
     "data": {
      "text/plain": [
       "<matplotlib.image.AxesImage at 0x77ffaee4f1f0>"
      ]
     },
     "execution_count": 16,
     "metadata": {},
     "output_type": "execute_result"
    },
    {
     "data": {
      "image/png": "[encoded data removed]",
      "text/plain": [
       "<Figure size 640x480 with 1 Axes>"
      ]
     },
     "metadata": {},
     "output_type": "display_data"
    }
   ],
   "source": [
    "plt.imshow(images[0].reshape(100, 100, 3))"
   ]
  },
  {
   "cell_type": "code",
   "execution_count": 17,
   "id": "c195b816",
   "metadata": {
    "ExecuteTime": {
     "end_time": "2023-12-30T23:14:40.354171200Z",
     "start_time": "2023-12-30T23:14:40.292724200Z"
    },
    "collapsed": false,
    "execution": {
     "iopub.execute_input": "2023-12-31T00:08:09.126833Z",
     "iopub.status.busy": "2023-12-31T00:08:09.126508Z",
     "iopub.status.idle": "2023-12-31T00:08:09.301672Z",
     "shell.execute_reply": "2023-12-31T00:08:09.300574Z"
    },
    "jupyter": {
     "outputs_hidden": false
    },
    "papermill": {
     "duration": 0.194685,
     "end_time": "2023-12-31T00:08:09.304374",
     "exception": false,
     "start_time": "2023-12-31T00:08:09.109689",
     "status": "completed"
    },
    "tags": []
   },
   "outputs": [],
   "source": [
    "model = VAE(input_dim=30000, latent_dim=20, hidden_dim=300)"
   ]
  },
  {
   "cell_type": "code",
   "execution_count": 18,
   "id": "0c9af631",
   "metadata": {
    "ExecuteTime": {
     "end_time": "2023-12-30T23:14:40.360172700Z",
     "start_time": "2023-12-30T23:14:40.355665600Z"
    },
    "collapsed": false,
    "execution": {
     "iopub.execute_input": "2023-12-31T00:08:09.339757Z",
     "iopub.status.busy": "2023-12-31T00:08:09.339358Z",
     "iopub.status.idle": "2023-12-31T00:08:09.346166Z",
     "shell.execute_reply": "2023-12-31T00:08:09.345177Z"
    },
    "jupyter": {
     "outputs_hidden": false
    },
    "papermill": {
     "duration": 0.027326,
     "end_time": "2023-12-31T00:08:09.348531",
     "exception": false,
     "start_time": "2023-12-31T00:08:09.321205",
     "status": "completed"
    },
    "tags": []
   },
   "outputs": [
    {
     "data": {
      "text/plain": [
       "VAE(\n",
       "  (input_to_hidden): Linear(in_features=30000, out_features=300, bias=True)\n",
       "  (hidden_to_mu): Linear(in_features=300, out_features=20, bias=True)\n",
       "  (hidden_to_log_var): Linear(in_features=300, out_features=20, bias=True)\n",
       "  (latent_to_hidden): Linear(in_features=20, out_features=300, bias=True)\n",
       "  (hidden_to_output): Linear(in_features=300, out_features=30000, bias=True)\n",
       ")"
      ]
     },
     "execution_count": 18,
     "metadata": {},
     "output_type": "execute_result"
    }
   ],
   "source": [
    "model"
   ]
  },
  {
   "cell_type": "code",
   "execution_count": 19,
   "id": "3a6afb75",
   "metadata": {
    "ExecuteTime": {
     "end_time": "2023-12-30T23:16:19.525157200Z",
     "start_time": "2023-12-30T23:14:40.380102200Z"
    },
    "collapsed": true,
    "execution": {
     "iopub.execute_input": "2023-12-31T00:08:09.383839Z",
     "iopub.status.busy": "2023-12-31T00:08:09.383495Z",
     "iopub.status.idle": "2023-12-31T00:12:01.079858Z",
     "shell.execute_reply": "2023-12-31T00:12:01.078928Z"
    },
    "jupyter": {
     "outputs_hidden": true
    },
    "papermill": {
     "duration": 231.716711,
     "end_time": "2023-12-31T00:12:01.082089",
     "exception": false,
     "start_time": "2023-12-31T00:08:09.365378",
     "status": "completed"
    },
    "tags": []
   },
   "outputs": [
    {
     "name": "stdout",
     "output_type": "stream",
     "text": [
      "Epoch: 0, Loss: 491627.125\n",
      "Epoch: 1, Loss: 2399262.5\n",
      "Epoch: 2, Loss: 1363077.625\n",
      "Epoch: 3, Loss: 2011134.875\n",
      "Epoch: 4, Loss: 1710644.625\n",
      "Epoch: 5, Loss: 895562.875\n",
      "Epoch: 6, Loss: 1254678.625\n",
      "Epoch: 7, Loss: 1526969.25\n",
      "Epoch: 8, Loss: 1447843.5\n",
      "Epoch: 9, Loss: 1007565.625\n",
      "Epoch: 10, Loss: 6999259.5\n",
      "Epoch: 11, Loss: 1377430.125\n",
      "Epoch: 12, Loss: 1789706.75\n",
      "Epoch: 13, Loss: 2287348.0\n",
      "Epoch: 14, Loss: 1435324.0\n",
      "Epoch: 15, Loss: 1203477.75\n",
      "Epoch: 16, Loss: 946888.25\n",
      "Epoch: 17, Loss: 803350.0625\n",
      "Epoch: 18, Loss: 660509.625\n",
      "Epoch: 19, Loss: 687084.25\n",
      "Epoch: 20, Loss: 761070.875\n",
      "Epoch: 21, Loss: 937075.0625\n",
      "Epoch: 22, Loss: 848192.4375\n",
      "Epoch: 23, Loss: 711092.875\n",
      "Epoch: 24, Loss: 631181.1875\n",
      "Epoch: 25, Loss: 601181.125\n",
      "Epoch: 26, Loss: 683953.1875\n",
      "Epoch: 27, Loss: 780199.375\n",
      "Epoch: 28, Loss: 831051.5\n",
      "Epoch: 29, Loss: 707694.5\n",
      "Epoch: 30, Loss: 707543.75\n",
      "Epoch: 31, Loss: 652521.5625\n",
      "Epoch: 32, Loss: 615714.125\n",
      "Epoch: 33, Loss: 715721.875\n",
      "Epoch: 34, Loss: 639801.3125\n",
      "Epoch: 35, Loss: 697844.25\n",
      "Epoch: 36, Loss: 655331.5625\n",
      "Epoch: 37, Loss: 615534.875\n",
      "Epoch: 38, Loss: 574203.1875\n",
      "Epoch: 39, Loss: 572346.125\n",
      "Epoch: 40, Loss: 599751.0625\n",
      "Epoch: 41, Loss: 571715.8125\n",
      "Epoch: 42, Loss: 577986.0625\n",
      "Epoch: 43, Loss: 567474.9375\n",
      "Epoch: 44, Loss: 542960.5625\n",
      "Epoch: 45, Loss: 546832.0625\n",
      "Epoch: 46, Loss: 541013.1875\n",
      "Epoch: 47, Loss: 567003.875\n",
      "Epoch: 48, Loss: 590298.5625\n",
      "Epoch: 49, Loss: 650543.4375\n",
      "Epoch: 50, Loss: 583459.25\n",
      "Epoch: 51, Loss: 568985.75\n",
      "Epoch: 52, Loss: 528888.75\n",
      "Epoch: 53, Loss: 544549.9375\n",
      "Epoch: 54, Loss: 559122.0625\n",
      "Epoch: 55, Loss: 531602.0625\n",
      "Epoch: 56, Loss: 510167.3125\n",
      "Epoch: 57, Loss: 519268.8125\n",
      "Epoch: 58, Loss: 527612.375\n",
      "Epoch: 59, Loss: 514219.3125\n",
      "Epoch: 60, Loss: 496245.46875\n",
      "Epoch: 61, Loss: 511965.25\n",
      "Epoch: 62, Loss: 513647.75\n",
      "Epoch: 63, Loss: 484799.0\n",
      "Epoch: 64, Loss: 490807.1875\n",
      "Epoch: 65, Loss: 503279.3125\n",
      "Epoch: 66, Loss: 481425.5625\n",
      "Epoch: 67, Loss: 478073.25\n",
      "Epoch: 68, Loss: 487924.375\n",
      "Epoch: 69, Loss: 463870.4375\n",
      "Epoch: 70, Loss: 467037.0\n",
      "Epoch: 71, Loss: 474532.375\n",
      "Epoch: 72, Loss: 454291.25\n",
      "Epoch: 73, Loss: 462959.59375\n",
      "Epoch: 74, Loss: 460912.625\n",
      "Epoch: 75, Loss: 448374.875\n",
      "Epoch: 76, Loss: 451021.4375\n",
      "Epoch: 77, Loss: 443855.0\n",
      "Epoch: 78, Loss: 438495.625\n",
      "Epoch: 79, Loss: 443886.03125\n",
      "Epoch: 80, Loss: 433227.78125\n",
      "Epoch: 81, Loss: 434765.0\n",
      "Epoch: 82, Loss: 435512.25\n",
      "Epoch: 83, Loss: 427718.3125\n",
      "Epoch: 84, Loss: 437264.90625\n",
      "Epoch: 85, Loss: 445817.3125\n",
      "Epoch: 86, Loss: 486728.71875\n",
      "Epoch: 87, Loss: 461929.875\n",
      "Epoch: 88, Loss: 445785.625\n",
      "Epoch: 89, Loss: 417286.96875\n",
      "Epoch: 90, Loss: 416795.34375\n",
      "Epoch: 91, Loss: 428315.0\n",
      "Epoch: 92, Loss: 419134.625\n",
      "Epoch: 93, Loss: 415852.3125\n",
      "Epoch: 94, Loss: 410327.1875\n",
      "Epoch: 95, Loss: 422210.6875\n",
      "Epoch: 96, Loss: 478720.5\n",
      "Epoch: 97, Loss: 638877.375\n",
      "Epoch: 98, Loss: 541972.125\n",
      "Epoch: 99, Loss: 417355.5\n",
      "Epoch: 100, Loss: 420759.0625\n",
      "Epoch: 101, Loss: 471932.625\n",
      "Epoch: 102, Loss: 413429.25\n",
      "Epoch: 103, Loss: 426061.03125\n",
      "Epoch: 104, Loss: 424487.90625\n",
      "Epoch: 105, Loss: 401210.875\n",
      "Epoch: 106, Loss: 417315.375\n",
      "Epoch: 107, Loss: 406162.8125\n",
      "Epoch: 108, Loss: 401313.46875\n",
      "Epoch: 109, Loss: 399149.1875\n",
      "Epoch: 110, Loss: 402847.46875\n",
      "Epoch: 111, Loss: 400200.125\n",
      "Epoch: 112, Loss: 398884.78125\n",
      "Epoch: 113, Loss: 400284.03125\n",
      "Epoch: 114, Loss: 398882.8125\n",
      "Epoch: 115, Loss: 396838.5625\n",
      "Epoch: 116, Loss: 400120.8125\n",
      "Epoch: 117, Loss: 394414.78125\n",
      "Epoch: 118, Loss: 390680.125\n",
      "Epoch: 119, Loss: 392533.625\n",
      "Epoch: 120, Loss: 389805.65625\n",
      "Epoch: 121, Loss: 387439.84375\n",
      "Epoch: 122, Loss: 382081.09375\n",
      "Epoch: 123, Loss: 380100.25\n",
      "Epoch: 124, Loss: 378454.9375\n",
      "Epoch: 125, Loss: 376039.8125\n",
      "Epoch: 126, Loss: 374728.53125\n",
      "Epoch: 127, Loss: 369489.3125\n",
      "Epoch: 128, Loss: 367343.1875\n",
      "Epoch: 129, Loss: 364839.90625\n",
      "Epoch: 130, Loss: 364048.9375\n",
      "Epoch: 131, Loss: 360752.0625\n",
      "Epoch: 132, Loss: 372624.125\n",
      "Epoch: 133, Loss: 359422.90625\n",
      "Epoch: 134, Loss: 360638.25\n",
      "Epoch: 135, Loss: 363560.9375\n",
      "Epoch: 136, Loss: 367015.875\n",
      "Epoch: 137, Loss: 383542.0625\n",
      "Epoch: 138, Loss: 408796.75\n",
      "Epoch: 139, Loss: 487663.21875\n",
      "Epoch: 140, Loss: 438721.625\n",
      "Epoch: 141, Loss: 408032.28125\n",
      "Epoch: 142, Loss: 390879.375\n",
      "Epoch: 143, Loss: 401421.1875\n",
      "Epoch: 144, Loss: 431516.0625\n",
      "Epoch: 145, Loss: 355298.90625\n",
      "Epoch: 146, Loss: 430213.34375\n",
      "Epoch: 147, Loss: 476084.8125\n",
      "Epoch: 148, Loss: 417482.59375\n",
      "Epoch: 149, Loss: 467166.5625\n",
      "Epoch: 150, Loss: 421428.625\n",
      "Epoch: 151, Loss: 417346.25\n",
      "Epoch: 152, Loss: 396199.46875\n",
      "Epoch: 153, Loss: 402688.34375\n",
      "Epoch: 154, Loss: 391448.53125\n",
      "Epoch: 155, Loss: 385430.65625\n",
      "Epoch: 156, Loss: 385744.125\n",
      "Epoch: 157, Loss: 388269.375\n",
      "Epoch: 158, Loss: 361237.0\n",
      "Epoch: 159, Loss: 381180.375\n",
      "Epoch: 160, Loss: 374864.875\n",
      "Epoch: 161, Loss: 365361.40625\n",
      "Epoch: 162, Loss: 359999.25\n",
      "Epoch: 163, Loss: 362000.8125\n",
      "Epoch: 164, Loss: 363160.6875\n",
      "Epoch: 165, Loss: 356356.625\n",
      "Epoch: 166, Loss: 352866.125\n",
      "Epoch: 167, Loss: 351333.6875\n",
      "Epoch: 168, Loss: 349564.03125\n",
      "Epoch: 169, Loss: 340560.53125\n",
      "Epoch: 170, Loss: 345125.5\n",
      "Epoch: 171, Loss: 341796.90625\n",
      "Epoch: 172, Loss: 337733.84375\n",
      "Epoch: 173, Loss: 334378.0625\n",
      "Epoch: 174, Loss: 331786.0625\n",
      "Epoch: 175, Loss: 329206.8125\n",
      "Epoch: 176, Loss: 330630.1875\n",
      "Epoch: 177, Loss: 328357.3125\n",
      "Epoch: 178, Loss: 325986.9375\n",
      "Epoch: 179, Loss: 325722.40625\n",
      "Epoch: 180, Loss: 323442.875\n",
      "Epoch: 181, Loss: 322431.65625\n",
      "Epoch: 182, Loss: 320202.0625\n",
      "Epoch: 183, Loss: 318343.5\n",
      "Epoch: 184, Loss: 315041.71875\n",
      "Epoch: 185, Loss: 315751.0\n",
      "Epoch: 186, Loss: 315523.59375\n",
      "Epoch: 187, Loss: 314131.84375\n",
      "Epoch: 188, Loss: 314886.09375\n",
      "Epoch: 189, Loss: 320699.4375\n",
      "Epoch: 190, Loss: 328613.4375\n",
      "Epoch: 191, Loss: 345708.34375\n",
      "Epoch: 192, Loss: 351558.4375\n",
      "Epoch: 193, Loss: 342069.59375\n",
      "Epoch: 194, Loss: 311029.6875\n",
      "Epoch: 195, Loss: 298065.53125\n",
      "Epoch: 196, Loss: 312977.0625\n",
      "Epoch: 197, Loss: 310873.0625\n",
      "Epoch: 198, Loss: 294955.25\n",
      "Epoch: 199, Loss: 304294.59375\n",
      "Epoch: 200, Loss: 300399.53125\n",
      "Epoch: 201, Loss: 296790.3125\n",
      "Epoch: 202, Loss: 301575.75\n",
      "Epoch: 203, Loss: 294409.25\n",
      "Epoch: 204, Loss: 298405.96875\n",
      "Epoch: 205, Loss: 297036.5\n",
      "Epoch: 206, Loss: 300159.09375\n",
      "Epoch: 207, Loss: 311067.0625\n",
      "Epoch: 208, Loss: 328570.0625\n",
      "Epoch: 209, Loss: 357106.09375\n",
      "Epoch: 210, Loss: 338355.78125\n",
      "Epoch: 211, Loss: 301882.09375\n",
      "Epoch: 212, Loss: 285760.375\n",
      "Epoch: 213, Loss: 303214.875\n",
      "Epoch: 214, Loss: 297362.125\n",
      "Epoch: 215, Loss: 281309.5\n",
      "Epoch: 216, Loss: 292247.40625\n",
      "Epoch: 217, Loss: 283901.96875\n",
      "Epoch: 218, Loss: 277934.5625\n",
      "Epoch: 219, Loss: 284772.875\n",
      "Epoch: 220, Loss: 275000.1875\n",
      "Epoch: 221, Loss: 277176.25\n",
      "Epoch: 222, Loss: 278432.28125\n",
      "Epoch: 223, Loss: 270162.6875\n",
      "Epoch: 224, Loss: 272695.25\n",
      "Epoch: 225, Loss: 274749.90625\n",
      "Epoch: 226, Loss: 271106.3125\n",
      "Epoch: 227, Loss: 275098.9375\n",
      "Epoch: 228, Loss: 270928.4375\n",
      "Epoch: 229, Loss: 273099.125\n",
      "Epoch: 230, Loss: 272648.125\n",
      "Epoch: 231, Loss: 272095.8125\n",
      "Epoch: 232, Loss: 278632.1875\n",
      "Epoch: 233, Loss: 281574.96875\n",
      "Epoch: 234, Loss: 296218.0625\n",
      "Epoch: 235, Loss: 303182.40625\n",
      "Epoch: 236, Loss: 308396.21875\n",
      "Epoch: 237, Loss: 296574.25\n",
      "Epoch: 238, Loss: 288712.5\n",
      "Epoch: 239, Loss: 314964.125\n",
      "Epoch: 240, Loss: 317569.125\n",
      "Epoch: 241, Loss: 295263.65625\n",
      "Epoch: 242, Loss: 285055.96875\n",
      "Epoch: 243, Loss: 301759.09375\n",
      "Epoch: 244, Loss: 360706.5\n",
      "Epoch: 245, Loss: 336111.6875\n",
      "Epoch: 246, Loss: 324219.65625\n",
      "Epoch: 247, Loss: 267596.5625\n",
      "Epoch: 248, Loss: 286031.625\n",
      "Epoch: 249, Loss: 316991.71875\n",
      "Epoch: 250, Loss: 269693.21875\n",
      "Epoch: 251, Loss: 302414.875\n",
      "Epoch: 252, Loss: 294154.40625\n",
      "Epoch: 253, Loss: 285564.71875\n",
      "Epoch: 254, Loss: 293072.875\n",
      "Epoch: 255, Loss: 285649.5\n",
      "Epoch: 256, Loss: 287242.125\n",
      "Epoch: 257, Loss: 275989.78125\n",
      "Epoch: 258, Loss: 283543.0625\n",
      "Epoch: 259, Loss: 281960.21875\n",
      "Epoch: 260, Loss: 274796.78125\n",
      "Epoch: 261, Loss: 279688.15625\n",
      "Epoch: 262, Loss: 271751.3125\n",
      "Epoch: 263, Loss: 273822.40625\n",
      "Epoch: 264, Loss: 271421.59375\n",
      "Epoch: 265, Loss: 269121.0625\n",
      "Epoch: 266, Loss: 270248.5625\n",
      "Epoch: 267, Loss: 266448.78125\n",
      "Epoch: 268, Loss: 268403.84375\n",
      "Epoch: 269, Loss: 264566.03125\n",
      "Epoch: 270, Loss: 264110.8125\n",
      "Epoch: 271, Loss: 263312.9375\n",
      "Epoch: 272, Loss: 261149.40625\n",
      "Epoch: 273, Loss: 262448.46875\n",
      "Epoch: 274, Loss: 260441.28125\n",
      "Epoch: 275, Loss: 260331.5\n",
      "Epoch: 276, Loss: 259249.375\n",
      "Epoch: 277, Loss: 261615.03125\n",
      "Epoch: 278, Loss: 263902.59375\n",
      "Epoch: 279, Loss: 271006.8125\n",
      "Epoch: 280, Loss: 275418.25\n",
      "Epoch: 281, Loss: 281523.40625\n",
      "Epoch: 282, Loss: 270107.0625\n",
      "Epoch: 283, Loss: 259535.0\n",
      "Epoch: 284, Loss: 251210.40625\n",
      "Epoch: 285, Loss: 255031.265625\n",
      "Epoch: 286, Loss: 262111.828125\n",
      "Epoch: 287, Loss: 252496.125\n",
      "Epoch: 288, Loss: 255112.03125\n",
      "Epoch: 289, Loss: 260353.296875\n",
      "Epoch: 290, Loss: 256536.125\n",
      "Epoch: 291, Loss: 261932.09375\n",
      "Epoch: 292, Loss: 266109.375\n",
      "Epoch: 293, Loss: 273207.4375\n",
      "Epoch: 294, Loss: 282078.9375\n",
      "Epoch: 295, Loss: 289116.4375\n",
      "Epoch: 296, Loss: 273208.1875\n",
      "Epoch: 297, Loss: 267197.25\n",
      "Epoch: 298, Loss: 266923.46875\n",
      "Epoch: 299, Loss: 282030.125\n",
      "Epoch: 300, Loss: 267227.09375\n",
      "Epoch: 301, Loss: 258449.0\n",
      "Epoch: 302, Loss: 266172.5625\n",
      "Epoch: 303, Loss: 268028.28125\n",
      "Epoch: 304, Loss: 280053.5625\n",
      "Epoch: 305, Loss: 290918.125\n",
      "Epoch: 306, Loss: 291189.40625\n",
      "Epoch: 307, Loss: 271079.3125\n",
      "Epoch: 308, Loss: 249191.0625\n",
      "Epoch: 309, Loss: 259886.28125\n",
      "Epoch: 310, Loss: 254328.546875\n",
      "Epoch: 311, Loss: 262368.5\n",
      "Epoch: 312, Loss: 267011.59375\n",
      "Epoch: 313, Loss: 250288.609375\n",
      "Epoch: 314, Loss: 262353.0\n",
      "Epoch: 315, Loss: 268601.25\n",
      "Epoch: 316, Loss: 269731.8125\n",
      "Epoch: 317, Loss: 265948.53125\n",
      "Epoch: 318, Loss: 267072.6875\n",
      "Epoch: 319, Loss: 271526.0\n",
      "Epoch: 320, Loss: 273777.6875\n",
      "Epoch: 321, Loss: 271273.625\n",
      "Epoch: 322, Loss: 270506.8125\n",
      "Epoch: 323, Loss: 271317.125\n",
      "Epoch: 324, Loss: 272772.46875\n",
      "Epoch: 325, Loss: 271712.40625\n",
      "Epoch: 326, Loss: 271880.875\n",
      "Epoch: 327, Loss: 271258.59375\n",
      "Epoch: 328, Loss: 272133.96875\n",
      "Epoch: 329, Loss: 270750.03125\n",
      "Epoch: 330, Loss: 272364.9375\n",
      "Epoch: 331, Loss: 271837.6875\n",
      "Epoch: 332, Loss: 276966.46875\n",
      "Epoch: 333, Loss: 282487.5\n",
      "Epoch: 334, Loss: 280363.25\n",
      "Epoch: 335, Loss: 274807.84375\n",
      "Epoch: 336, Loss: 279999.53125\n",
      "Epoch: 337, Loss: 261158.28125\n",
      "Epoch: 338, Loss: 269736.1875\n",
      "Epoch: 339, Loss: 272424.46875\n",
      "Epoch: 340, Loss: 271998.625\n",
      "Epoch: 341, Loss: 275005.28125\n",
      "Epoch: 342, Loss: 280628.875\n",
      "Epoch: 343, Loss: 278506.5\n",
      "Epoch: 344, Loss: 278817.1875\n",
      "Epoch: 345, Loss: 283724.96875\n",
      "Epoch: 346, Loss: 284798.875\n",
      "Epoch: 347, Loss: 286336.25\n",
      "Epoch: 348, Loss: 290842.25\n",
      "Epoch: 349, Loss: 294195.0625\n",
      "Epoch: 350, Loss: 299833.78125\n",
      "Epoch: 351, Loss: 316803.375\n",
      "Epoch: 352, Loss: 327044.3125\n",
      "Epoch: 353, Loss: 350069.59375\n",
      "Epoch: 354, Loss: 324973.4375\n",
      "Epoch: 355, Loss: 321751.03125\n",
      "Epoch: 356, Loss: 308021.6875\n",
      "Epoch: 357, Loss: 312298.8125\n",
      "Epoch: 358, Loss: 305976.3125\n",
      "Epoch: 359, Loss: 330123.5\n",
      "Epoch: 360, Loss: 325416.625\n",
      "Epoch: 361, Loss: 319773.75\n",
      "Epoch: 362, Loss: 304399.46875\n",
      "Epoch: 363, Loss: 292293.625\n",
      "Epoch: 364, Loss: 294455.6875\n",
      "Epoch: 365, Loss: 303920.125\n",
      "Epoch: 366, Loss: 300166.25\n",
      "Epoch: 367, Loss: 307818.0\n",
      "Epoch: 368, Loss: 315002.03125\n",
      "Epoch: 369, Loss: 337535.0\n",
      "Epoch: 370, Loss: 307358.53125\n",
      "Epoch: 371, Loss: 310163.71875\n",
      "Epoch: 372, Loss: 299192.8125\n",
      "Epoch: 373, Loss: 306547.6875\n",
      "Epoch: 374, Loss: 309083.25\n",
      "Epoch: 375, Loss: 286720.6875\n",
      "Epoch: 376, Loss: 292651.71875\n",
      "Epoch: 377, Loss: 294259.625\n",
      "Epoch: 378, Loss: 281528.25\n",
      "Epoch: 379, Loss: 286776.40625\n",
      "Epoch: 380, Loss: 286254.125\n",
      "Epoch: 381, Loss: 278384.96875\n",
      "Epoch: 382, Loss: 275859.0\n",
      "Epoch: 383, Loss: 275635.6875\n",
      "Epoch: 384, Loss: 273426.1875\n",
      "Epoch: 385, Loss: 358822.875\n",
      "Epoch: 386, Loss: 282000.8125\n",
      "Epoch: 387, Loss: 305982.5625\n",
      "Epoch: 388, Loss: 306393.78125\n",
      "Epoch: 389, Loss: 290911.78125\n",
      "Epoch: 390, Loss: 301160.5625\n",
      "Epoch: 391, Loss: 321646.9375\n",
      "Epoch: 392, Loss: 298474.8125\n",
      "Epoch: 393, Loss: 310286.65625\n",
      "Epoch: 394, Loss: 319039.90625\n",
      "Epoch: 395, Loss: 305639.8125\n",
      "Epoch: 396, Loss: 320483.8125\n",
      "Epoch: 397, Loss: 316718.375\n",
      "Epoch: 398, Loss: 313080.8125\n",
      "Epoch: 399, Loss: 320163.15625\n",
      "Epoch: 400, Loss: 313697.0625\n",
      "Epoch: 401, Loss: 334263.6875\n",
      "Epoch: 402, Loss: 331390.0625\n",
      "Epoch: 403, Loss: 349602.4375\n",
      "Epoch: 404, Loss: 341890.5\n",
      "Epoch: 405, Loss: 348336.9375\n",
      "Epoch: 406, Loss: 322336.75\n",
      "Epoch: 407, Loss: 326659.25\n",
      "Epoch: 408, Loss: 328112.6875\n",
      "Epoch: 409, Loss: 324393.1875\n",
      "Epoch: 410, Loss: 323283.1875\n",
      "Epoch: 411, Loss: 346880.5\n",
      "Epoch: 412, Loss: 338398.25\n",
      "Epoch: 413, Loss: 348144.09375\n",
      "Epoch: 414, Loss: 316259.75\n",
      "Epoch: 415, Loss: 312664.9375\n",
      "Epoch: 416, Loss: 320990.875\n",
      "Epoch: 417, Loss: 315406.6875\n",
      "Epoch: 418, Loss: 309961.5\n",
      "Epoch: 419, Loss: 314204.375\n",
      "Epoch: 420, Loss: 310725.875\n",
      "Epoch: 421, Loss: 312201.6875\n",
      "Epoch: 422, Loss: 310083.5625\n",
      "Epoch: 423, Loss: 309946.34375\n",
      "Epoch: 424, Loss: 305474.375\n",
      "Epoch: 425, Loss: 306364.96875\n",
      "Epoch: 426, Loss: 302964.1875\n",
      "Epoch: 427, Loss: 303428.15625\n",
      "Epoch: 428, Loss: 297861.5625\n",
      "Epoch: 429, Loss: 300218.3125\n",
      "Epoch: 430, Loss: 295427.375\n",
      "Epoch: 431, Loss: 300867.6875\n",
      "Epoch: 432, Loss: 297197.375\n",
      "Epoch: 433, Loss: 299686.6875\n",
      "Epoch: 434, Loss: 300821.5625\n",
      "Epoch: 435, Loss: 302986.34375\n",
      "Epoch: 436, Loss: 303129.5625\n",
      "Epoch: 437, Loss: 305641.3125\n",
      "Epoch: 438, Loss: 307654.75\n",
      "Epoch: 439, Loss: 311496.21875\n",
      "Epoch: 440, Loss: 317212.4375\n",
      "Epoch: 441, Loss: 325980.9375\n",
      "Epoch: 442, Loss: 331577.125\n",
      "Epoch: 443, Loss: 327643.0\n",
      "Epoch: 444, Loss: 313714.28125\n",
      "Epoch: 445, Loss: 323833.125\n",
      "Epoch: 446, Loss: 386876.4375\n",
      "Epoch: 447, Loss: 584823.875\n",
      "Epoch: 448, Loss: 403539.375\n",
      "Epoch: 449, Loss: 355918.8125\n",
      "Epoch: 450, Loss: 364421.75\n",
      "Epoch: 451, Loss: 365967.8125\n",
      "Epoch: 452, Loss: 336341.8125\n",
      "Epoch: 453, Loss: 345806.125\n",
      "Epoch: 454, Loss: 331274.5625\n",
      "Epoch: 455, Loss: 329372.4375\n",
      "Epoch: 456, Loss: 333416.75\n",
      "Epoch: 457, Loss: 312822.59375\n",
      "Epoch: 458, Loss: 317389.375\n",
      "Epoch: 459, Loss: 318871.875\n",
      "Epoch: 460, Loss: 318645.75\n",
      "Epoch: 461, Loss: 321941.1875\n",
      "Epoch: 462, Loss: 341888.03125\n",
      "Epoch: 463, Loss: 358716.625\n",
      "Epoch: 464, Loss: 358495.3125\n",
      "Epoch: 465, Loss: 303790.65625\n",
      "Epoch: 466, Loss: 313202.8125\n",
      "Epoch: 467, Loss: 312972.875\n",
      "Epoch: 468, Loss: 305559.25\n",
      "Epoch: 469, Loss: 308537.0625\n",
      "Epoch: 470, Loss: 306627.34375\n",
      "Epoch: 471, Loss: 315170.4375\n",
      "Epoch: 472, Loss: 323328.84375\n",
      "Epoch: 473, Loss: 346041.375\n",
      "Epoch: 474, Loss: 364095.375\n",
      "Epoch: 475, Loss: 302468.8125\n",
      "Epoch: 476, Loss: 295830.90625\n",
      "Epoch: 477, Loss: 317339.6875\n",
      "Epoch: 478, Loss: 308487.375\n",
      "Epoch: 479, Loss: 303155.3125\n",
      "Epoch: 480, Loss: 310130.3125\n",
      "Epoch: 481, Loss: 306540.6875\n",
      "Epoch: 482, Loss: 310091.3125\n",
      "Epoch: 483, Loss: 309794.8125\n",
      "Epoch: 484, Loss: 308936.4375\n",
      "Epoch: 485, Loss: 311277.71875\n",
      "Epoch: 486, Loss: 309579.875\n",
      "Epoch: 487, Loss: 310033.5625\n",
      "Epoch: 488, Loss: 309531.4375\n",
      "Epoch: 489, Loss: 310566.65625\n",
      "Epoch: 490, Loss: 307416.5\n",
      "Epoch: 491, Loss: 310136.59375\n",
      "Epoch: 492, Loss: 308122.5625\n",
      "Epoch: 493, Loss: 308856.375\n",
      "Epoch: 494, Loss: 307665.125\n",
      "Epoch: 495, Loss: 306741.625\n",
      "Epoch: 496, Loss: 307394.4375\n",
      "Epoch: 497, Loss: 305646.15625\n",
      "Epoch: 498, Loss: 305726.71875\n",
      "Epoch: 499, Loss: 304965.09375\n",
      "Epoch: 500, Loss: 305489.1875\n",
      "Epoch: 501, Loss: 306104.75\n",
      "Epoch: 502, Loss: 306484.15625\n",
      "Epoch: 503, Loss: 306493.625\n",
      "Epoch: 504, Loss: 305485.125\n",
      "Epoch: 505, Loss: 305097.375\n",
      "Epoch: 506, Loss: 303825.34375\n",
      "Epoch: 507, Loss: 304155.4375\n",
      "Epoch: 508, Loss: 304749.53125\n",
      "Epoch: 509, Loss: 308753.8125\n",
      "Epoch: 510, Loss: 310951.5625\n",
      "Epoch: 511, Loss: 317820.1875\n",
      "Epoch: 512, Loss: 317565.0625\n",
      "Epoch: 513, Loss: 319883.6875\n",
      "Epoch: 514, Loss: 308663.125\n",
      "Epoch: 515, Loss: 304023.3125\n",
      "Epoch: 516, Loss: 302193.03125\n",
      "Epoch: 517, Loss: 302492.5625\n",
      "Epoch: 518, Loss: 299521.4375\n",
      "Epoch: 519, Loss: 299841.125\n",
      "Epoch: 520, Loss: 299549.875\n",
      "Epoch: 521, Loss: 297038.40625\n",
      "Epoch: 522, Loss: 294782.96875\n",
      "Epoch: 523, Loss: 296363.1875\n",
      "Epoch: 524, Loss: 295554.125\n",
      "Epoch: 525, Loss: 296497.09375\n",
      "Epoch: 526, Loss: 299045.5625\n",
      "Epoch: 527, Loss: 302039.6875\n",
      "Epoch: 528, Loss: 302623.34375\n",
      "Epoch: 529, Loss: 296682.4375\n",
      "Epoch: 530, Loss: 288845.1875\n",
      "Epoch: 531, Loss: 285184.46875\n",
      "Epoch: 532, Loss: 286934.625\n",
      "Epoch: 533, Loss: 290819.0625\n",
      "Epoch: 534, Loss: 288002.59375\n",
      "Epoch: 535, Loss: 282737.9375\n",
      "Epoch: 536, Loss: 283610.3125\n",
      "Epoch: 537, Loss: 286544.5625\n",
      "Epoch: 538, Loss: 284518.34375\n",
      "Epoch: 539, Loss: 282736.8125\n",
      "Epoch: 540, Loss: 286394.53125\n",
      "Epoch: 541, Loss: 291871.875\n",
      "Epoch: 542, Loss: 316497.375\n",
      "Epoch: 543, Loss: 352670.6875\n",
      "Epoch: 544, Loss: 461621.9375\n",
      "Epoch: 545, Loss: 336911.875\n",
      "Epoch: 546, Loss: 384626.4375\n",
      "Epoch: 547, Loss: 473055.0625\n",
      "Epoch: 548, Loss: 413853.75\n",
      "Epoch: 549, Loss: 348497.3125\n",
      "Epoch: 550, Loss: 439247.6875\n",
      "Epoch: 551, Loss: 355422.1875\n",
      "Epoch: 552, Loss: 407481.84375\n",
      "Epoch: 553, Loss: 456882.0\n",
      "Epoch: 554, Loss: 450005.125\n",
      "Epoch: 555, Loss: 440217.0625\n",
      "Epoch: 556, Loss: 367221.34375\n",
      "Epoch: 557, Loss: 410125.1875\n",
      "Epoch: 558, Loss: 383478.53125\n",
      "Epoch: 559, Loss: 382415.0625\n",
      "Epoch: 560, Loss: 380061.75\n",
      "Epoch: 561, Loss: 382699.875\n",
      "Epoch: 562, Loss: 354692.3125\n",
      "Epoch: 563, Loss: 348149.65625\n",
      "Epoch: 564, Loss: 354345.4375\n",
      "Epoch: 565, Loss: 342023.375\n",
      "Epoch: 566, Loss: 343123.875\n",
      "Epoch: 567, Loss: 353964.3125\n",
      "Epoch: 568, Loss: 398459.0\n",
      "Epoch: 569, Loss: 399306.625\n",
      "Epoch: 570, Loss: 389776.6875\n",
      "Epoch: 571, Loss: 348902.34375\n",
      "Epoch: 572, Loss: 399802.0625\n",
      "Epoch: 573, Loss: 381874.65625\n",
      "Epoch: 574, Loss: 352438.0\n",
      "Epoch: 575, Loss: 330652.1875\n",
      "Epoch: 576, Loss: 313922.84375\n",
      "Epoch: 577, Loss: 333815.3125\n",
      "Epoch: 578, Loss: 310748.8125\n",
      "Epoch: 579, Loss: 314984.375\n",
      "Epoch: 580, Loss: 302261.375\n",
      "Epoch: 581, Loss: 306100.9375\n",
      "Epoch: 582, Loss: 292145.15625\n",
      "Epoch: 583, Loss: 292155.1875\n",
      "Epoch: 584, Loss: 289498.40625\n",
      "Epoch: 585, Loss: 289854.78125\n",
      "Epoch: 586, Loss: 285429.0\n",
      "Epoch: 587, Loss: 281445.5625\n",
      "Epoch: 588, Loss: 278548.75\n",
      "Epoch: 589, Loss: 276356.3125\n",
      "Epoch: 590, Loss: 273585.75\n",
      "Epoch: 591, Loss: 272161.375\n",
      "Epoch: 592, Loss: 271482.3125\n",
      "Epoch: 593, Loss: 268245.03125\n",
      "Epoch: 594, Loss: 266894.5\n",
      "Epoch: 595, Loss: 264951.875\n",
      "Epoch: 596, Loss: 264267.0\n",
      "Epoch: 597, Loss: 263024.75\n",
      "Epoch: 598, Loss: 260696.703125\n",
      "Epoch: 599, Loss: 260966.9375\n",
      "Epoch: 600, Loss: 257867.171875\n",
      "Epoch: 601, Loss: 258741.828125\n",
      "Epoch: 602, Loss: 256578.65625\n",
      "Epoch: 603, Loss: 255084.984375\n",
      "Epoch: 604, Loss: 253882.46875\n",
      "Epoch: 605, Loss: 254689.15625\n",
      "Epoch: 606, Loss: 253911.1875\n",
      "Epoch: 607, Loss: 258063.28125\n",
      "Epoch: 608, Loss: 263124.1875\n",
      "Epoch: 609, Loss: 279171.46875\n",
      "Epoch: 610, Loss: 291432.09375\n",
      "Epoch: 611, Loss: 313697.5\n",
      "Epoch: 612, Loss: 283176.59375\n",
      "Epoch: 613, Loss: 253212.1875\n",
      "Epoch: 614, Loss: 249032.921875\n",
      "Epoch: 615, Loss: 259907.515625\n",
      "Epoch: 616, Loss: 253442.03125\n",
      "Epoch: 617, Loss: 251416.71875\n",
      "Epoch: 618, Loss: 249883.78125\n",
      "Epoch: 619, Loss: 245530.96875\n",
      "Epoch: 620, Loss: 248986.34375\n",
      "Epoch: 621, Loss: 245194.5\n",
      "Epoch: 622, Loss: 242570.65625\n",
      "Epoch: 623, Loss: 242069.53125\n",
      "Epoch: 624, Loss: 242804.96875\n",
      "Epoch: 625, Loss: 239179.4375\n",
      "Epoch: 626, Loss: 240118.09375\n",
      "Epoch: 627, Loss: 238381.3125\n",
      "Epoch: 628, Loss: 236981.5\n",
      "Epoch: 629, Loss: 236806.96875\n",
      "Epoch: 630, Loss: 235583.484375\n",
      "Epoch: 631, Loss: 233877.0\n",
      "Epoch: 632, Loss: 233995.765625\n",
      "Epoch: 633, Loss: 231459.0625\n",
      "Epoch: 634, Loss: 231904.046875\n",
      "Epoch: 635, Loss: 230821.84375\n",
      "Epoch: 636, Loss: 229286.125\n",
      "Epoch: 637, Loss: 228913.984375\n",
      "Epoch: 638, Loss: 228012.515625\n",
      "Epoch: 639, Loss: 227678.078125\n",
      "Epoch: 640, Loss: 228737.40625\n",
      "Epoch: 641, Loss: 229880.84375\n",
      "Epoch: 642, Loss: 233240.203125\n",
      "Epoch: 643, Loss: 236065.25\n",
      "Epoch: 644, Loss: 240226.0625\n",
      "Epoch: 645, Loss: 239558.125\n",
      "Epoch: 646, Loss: 233916.546875\n",
      "Epoch: 647, Loss: 224769.515625\n",
      "Epoch: 648, Loss: 222030.84375\n",
      "Epoch: 649, Loss: 225013.859375\n",
      "Epoch: 650, Loss: 223411.40625\n",
      "Epoch: 651, Loss: 220265.875\n",
      "Epoch: 652, Loss: 221081.46875\n",
      "Epoch: 653, Loss: 220275.828125\n",
      "Epoch: 654, Loss: 217583.34375\n",
      "Epoch: 655, Loss: 220197.6875\n",
      "Epoch: 656, Loss: 224725.875\n",
      "Epoch: 657, Loss: 240192.578125\n",
      "Epoch: 658, Loss: 263868.34375\n",
      "Epoch: 659, Loss: 332136.3125\n",
      "Epoch: 660, Loss: 307569.15625\n",
      "Epoch: 661, Loss: 281834.71875\n",
      "Epoch: 662, Loss: 232580.375\n",
      "Epoch: 663, Loss: 262870.4375\n",
      "Epoch: 664, Loss: 240667.4375\n",
      "Epoch: 665, Loss: 247883.671875\n",
      "Epoch: 666, Loss: 247171.875\n",
      "Epoch: 667, Loss: 258995.84375\n",
      "Epoch: 668, Loss: 264833.9375\n",
      "Epoch: 669, Loss: 289912.75\n",
      "Epoch: 670, Loss: 243179.546875\n",
      "Epoch: 671, Loss: 232696.3125\n",
      "Epoch: 672, Loss: 239314.171875\n",
      "Epoch: 673, Loss: 231289.78125\n",
      "Epoch: 674, Loss: 234313.78125\n",
      "Epoch: 675, Loss: 232043.75\n",
      "Epoch: 676, Loss: 234641.71875\n",
      "Epoch: 677, Loss: 245921.46875\n",
      "Epoch: 678, Loss: 263117.5\n",
      "Epoch: 679, Loss: 257698.25\n",
      "Epoch: 680, Loss: 239589.28125\n",
      "Epoch: 681, Loss: 220326.578125\n",
      "Epoch: 682, Loss: 237493.78125\n",
      "Epoch: 683, Loss: 227336.65625\n",
      "Epoch: 684, Loss: 222170.296875\n",
      "Epoch: 685, Loss: 226588.59375\n",
      "Epoch: 686, Loss: 219783.09375\n",
      "Epoch: 687, Loss: 219690.40625\n",
      "Epoch: 688, Loss: 219678.96875\n",
      "Epoch: 689, Loss: 217871.109375\n",
      "Epoch: 690, Loss: 216198.734375\n",
      "Epoch: 691, Loss: 214434.125\n",
      "Epoch: 692, Loss: 217210.28125\n",
      "Epoch: 693, Loss: 212579.90625\n",
      "Epoch: 694, Loss: 215788.1875\n",
      "Epoch: 695, Loss: 211464.796875\n",
      "Epoch: 696, Loss: 213668.625\n",
      "Epoch: 697, Loss: 209749.03125\n",
      "Epoch: 698, Loss: 211475.65625\n",
      "Epoch: 699, Loss: 208368.34375\n",
      "Epoch: 700, Loss: 208894.25\n",
      "Epoch: 701, Loss: 207836.6875\n",
      "Epoch: 702, Loss: 208055.390625\n",
      "Epoch: 703, Loss: 208015.5\n",
      "Epoch: 704, Loss: 205833.5\n",
      "Epoch: 705, Loss: 204992.96875\n",
      "Epoch: 706, Loss: 204364.96875\n",
      "Epoch: 707, Loss: 203898.875\n",
      "Epoch: 708, Loss: 203836.890625\n",
      "Epoch: 709, Loss: 203232.96875\n",
      "Epoch: 710, Loss: 203179.34375\n",
      "Epoch: 711, Loss: 203563.125\n",
      "Epoch: 712, Loss: 204421.6875\n",
      "Epoch: 713, Loss: 205662.546875\n",
      "Epoch: 714, Loss: 207032.46875\n",
      "Epoch: 715, Loss: 207489.0625\n",
      "Epoch: 716, Loss: 207255.0\n",
      "Epoch: 717, Loss: 202786.0\n",
      "Epoch: 718, Loss: 200192.25\n",
      "Epoch: 719, Loss: 200025.65625\n",
      "Epoch: 720, Loss: 204102.09375\n",
      "Epoch: 721, Loss: 207692.921875\n",
      "Epoch: 722, Loss: 215271.234375\n",
      "Epoch: 723, Loss: 231860.453125\n",
      "Epoch: 724, Loss: 291715.53125\n",
      "Epoch: 725, Loss: 304050.40625\n",
      "Epoch: 726, Loss: 338022.0625\n",
      "Epoch: 727, Loss: 269180.28125\n",
      "Epoch: 728, Loss: 251232.25\n",
      "Epoch: 729, Loss: 246301.15625\n",
      "Epoch: 730, Loss: 249472.3125\n",
      "Epoch: 731, Loss: 231634.65625\n",
      "Epoch: 732, Loss: 235662.0\n",
      "Epoch: 733, Loss: 214609.375\n",
      "Epoch: 734, Loss: 231444.34375\n",
      "Epoch: 735, Loss: 221016.828125\n",
      "Epoch: 736, Loss: 216123.71875\n",
      "Epoch: 737, Loss: 215465.21875\n",
      "Epoch: 738, Loss: 216398.640625\n",
      "Epoch: 739, Loss: 212091.9375\n",
      "Epoch: 740, Loss: 220656.625\n",
      "Epoch: 741, Loss: 232660.03125\n",
      "Epoch: 742, Loss: 242558.625\n",
      "Epoch: 743, Loss: 247228.4375\n",
      "Epoch: 744, Loss: 231680.75\n",
      "Epoch: 745, Loss: 215072.796875\n",
      "Epoch: 746, Loss: 217932.140625\n",
      "Epoch: 747, Loss: 220447.859375\n",
      "Epoch: 748, Loss: 205975.578125\n",
      "Epoch: 749, Loss: 214796.234375\n",
      "Epoch: 750, Loss: 205781.03125\n",
      "Epoch: 751, Loss: 212472.875\n",
      "Epoch: 752, Loss: 208434.46875\n",
      "Epoch: 753, Loss: 210365.34375\n",
      "Epoch: 754, Loss: 207601.21875\n",
      "Epoch: 755, Loss: 206218.515625\n",
      "Epoch: 756, Loss: 203824.75\n",
      "Epoch: 757, Loss: 205232.78125\n",
      "Epoch: 758, Loss: 203399.171875\n",
      "Epoch: 759, Loss: 200576.65625\n",
      "Epoch: 760, Loss: 198507.703125\n",
      "Epoch: 761, Loss: 198808.78125\n",
      "Epoch: 762, Loss: 198632.421875\n",
      "Epoch: 763, Loss: 196531.34375\n",
      "Epoch: 764, Loss: 197127.875\n",
      "Epoch: 765, Loss: 204557.265625\n",
      "Epoch: 766, Loss: 217399.8125\n",
      "Epoch: 767, Loss: 242790.90625\n",
      "Epoch: 768, Loss: 234893.328125\n",
      "Epoch: 769, Loss: 210857.3125\n",
      "Epoch: 770, Loss: 198323.125\n",
      "Epoch: 771, Loss: 209805.1875\n",
      "Epoch: 772, Loss: 210465.78125\n",
      "Epoch: 773, Loss: 204502.203125\n",
      "Epoch: 774, Loss: 210348.59375\n",
      "Epoch: 775, Loss: 203729.84375\n",
      "Epoch: 776, Loss: 208339.03125\n",
      "Epoch: 777, Loss: 205219.109375\n",
      "Epoch: 778, Loss: 210246.671875\n",
      "Epoch: 779, Loss: 205664.796875\n",
      "Epoch: 780, Loss: 206910.71875\n",
      "Epoch: 781, Loss: 209156.5625\n",
      "Epoch: 782, Loss: 213753.09375\n",
      "Epoch: 783, Loss: 229298.75\n",
      "Epoch: 784, Loss: 247000.046875\n",
      "Epoch: 785, Loss: 298982.15625\n",
      "Epoch: 786, Loss: 238345.9375\n",
      "Epoch: 787, Loss: 220690.5625\n",
      "Epoch: 788, Loss: 228081.015625\n",
      "Epoch: 789, Loss: 226274.578125\n",
      "Epoch: 790, Loss: 222237.96875\n",
      "Epoch: 791, Loss: 226520.28125\n",
      "Epoch: 792, Loss: 217946.265625\n",
      "Epoch: 793, Loss: 204011.34375\n",
      "Epoch: 794, Loss: 209699.6875\n",
      "Epoch: 795, Loss: 208536.25\n",
      "Epoch: 796, Loss: 206465.5\n",
      "Epoch: 797, Loss: 215568.953125\n",
      "Epoch: 798, Loss: 221839.40625\n",
      "Epoch: 799, Loss: 236270.96875\n",
      "Epoch: 800, Loss: 225426.96875\n",
      "Epoch: 801, Loss: 215641.0625\n",
      "Epoch: 802, Loss: 202245.34375\n",
      "Epoch: 803, Loss: 219641.375\n",
      "Epoch: 804, Loss: 209233.734375\n",
      "Epoch: 805, Loss: 203686.53125\n",
      "Epoch: 806, Loss: 197272.25\n",
      "Epoch: 807, Loss: 188977.59375\n",
      "Epoch: 808, Loss: 192998.1875\n",
      "Epoch: 809, Loss: 187113.59375\n",
      "Epoch: 810, Loss: 185945.75\n",
      "Epoch: 811, Loss: 180213.15625\n",
      "Epoch: 812, Loss: 182204.0\n",
      "Epoch: 813, Loss: 179461.5\n",
      "Epoch: 814, Loss: 178577.390625\n",
      "Epoch: 815, Loss: 175695.46875\n",
      "Epoch: 816, Loss: 196150.328125\n",
      "Epoch: 817, Loss: 184112.140625\n",
      "Epoch: 818, Loss: 189771.3125\n",
      "Epoch: 819, Loss: 197135.453125\n",
      "Epoch: 820, Loss: 201284.15625\n",
      "Epoch: 821, Loss: 204882.59375\n",
      "Epoch: 822, Loss: 205613.9375\n",
      "Epoch: 823, Loss: 214667.5\n",
      "Epoch: 824, Loss: 220329.453125\n",
      "Epoch: 825, Loss: 229671.875\n",
      "Epoch: 826, Loss: 234682.765625\n",
      "Epoch: 827, Loss: 238073.5625\n",
      "Epoch: 828, Loss: 220284.125\n",
      "Epoch: 829, Loss: 214731.421875\n",
      "Epoch: 830, Loss: 217046.953125\n",
      "Epoch: 831, Loss: 214260.4375\n",
      "Epoch: 832, Loss: 211326.96875\n",
      "Epoch: 833, Loss: 215891.53125\n",
      "Epoch: 834, Loss: 212820.0625\n",
      "Epoch: 835, Loss: 210982.84375\n",
      "Epoch: 836, Loss: 213892.734375\n",
      "Epoch: 837, Loss: 210675.984375\n",
      "Epoch: 838, Loss: 210952.71875\n",
      "Epoch: 839, Loss: 209996.953125\n",
      "Epoch: 840, Loss: 208708.0\n",
      "Epoch: 841, Loss: 208680.234375\n",
      "Epoch: 842, Loss: 207994.84375\n",
      "Epoch: 843, Loss: 207206.34375\n",
      "Epoch: 844, Loss: 206638.765625\n",
      "Epoch: 845, Loss: 206086.0625\n",
      "Epoch: 846, Loss: 207181.375\n",
      "Epoch: 847, Loss: 207413.59375\n",
      "Epoch: 848, Loss: 209022.375\n",
      "Epoch: 849, Loss: 209787.65625\n",
      "Epoch: 850, Loss: 211197.21875\n",
      "Epoch: 851, Loss: 208978.59375\n",
      "Epoch: 852, Loss: 208966.71875\n",
      "Epoch: 853, Loss: 206518.25\n",
      "Epoch: 854, Loss: 206073.46875\n",
      "Epoch: 855, Loss: 204015.15625\n",
      "Epoch: 856, Loss: 203389.09375\n",
      "Epoch: 857, Loss: 203477.1875\n",
      "Epoch: 858, Loss: 207052.0625\n",
      "Epoch: 859, Loss: 216035.5\n",
      "Epoch: 860, Loss: 228709.53125\n",
      "Epoch: 861, Loss: 235463.03125\n",
      "Epoch: 862, Loss: 215628.59375\n",
      "Epoch: 863, Loss: 197377.03125\n",
      "Epoch: 864, Loss: 201600.5\n",
      "Epoch: 865, Loss: 205146.328125\n",
      "Epoch: 866, Loss: 199431.875\n",
      "Epoch: 867, Loss: 213158.125\n",
      "Epoch: 868, Loss: 220435.375\n",
      "Epoch: 869, Loss: 254610.78125\n",
      "Epoch: 870, Loss: 256573.515625\n",
      "Epoch: 871, Loss: 257982.40625\n",
      "Epoch: 872, Loss: 212350.15625\n",
      "Epoch: 873, Loss: 226462.6875\n",
      "Epoch: 874, Loss: 244307.640625\n",
      "Epoch: 875, Loss: 216211.65625\n",
      "Epoch: 876, Loss: 221854.5\n",
      "Epoch: 877, Loss: 208139.5\n",
      "Epoch: 878, Loss: 199964.140625\n",
      "Epoch: 879, Loss: 202264.9375\n",
      "Epoch: 880, Loss: 202956.1875\n",
      "Epoch: 881, Loss: 199052.5625\n",
      "Epoch: 882, Loss: 196847.90625\n",
      "Epoch: 883, Loss: 195802.546875\n",
      "Epoch: 884, Loss: 197762.8125\n",
      "Epoch: 885, Loss: 192350.484375\n",
      "Epoch: 886, Loss: 197161.8125\n",
      "Epoch: 887, Loss: 190787.609375\n",
      "Epoch: 888, Loss: 195079.265625\n",
      "Epoch: 889, Loss: 190981.625\n",
      "Epoch: 890, Loss: 192666.859375\n",
      "Epoch: 891, Loss: 191715.5625\n",
      "Epoch: 892, Loss: 189185.46875\n",
      "Epoch: 893, Loss: 191849.421875\n",
      "Epoch: 894, Loss: 188641.8125\n",
      "Epoch: 895, Loss: 192867.46875\n",
      "Epoch: 896, Loss: 186183.484375\n",
      "Epoch: 897, Loss: 183294.3125\n",
      "Epoch: 898, Loss: 178068.296875\n",
      "Epoch: 899, Loss: 178160.515625\n",
      "Epoch: 900, Loss: 179585.78125\n",
      "Epoch: 901, Loss: 177211.234375\n",
      "Epoch: 902, Loss: 175295.96875\n",
      "Epoch: 903, Loss: 173087.28125\n",
      "Epoch: 904, Loss: 174819.4375\n",
      "Epoch: 905, Loss: 171718.8125\n",
      "Epoch: 906, Loss: 171456.75\n",
      "Epoch: 907, Loss: 171360.328125\n",
      "Epoch: 908, Loss: 170464.03125\n",
      "Epoch: 909, Loss: 169419.03125\n",
      "Epoch: 910, Loss: 170231.59375\n",
      "Epoch: 911, Loss: 170647.546875\n",
      "Epoch: 912, Loss: 172015.875\n",
      "Epoch: 913, Loss: 172791.25\n",
      "Epoch: 914, Loss: 174171.828125\n",
      "Epoch: 915, Loss: 172199.53125\n",
      "Epoch: 916, Loss: 169474.890625\n",
      "Epoch: 917, Loss: 165820.296875\n",
      "Epoch: 918, Loss: 164293.921875\n",
      "Epoch: 919, Loss: 165462.546875\n",
      "Epoch: 920, Loss: 167319.28125\n",
      "Epoch: 921, Loss: 165743.875\n",
      "Epoch: 922, Loss: 173171.578125\n",
      "Epoch: 923, Loss: 193416.15625\n",
      "Epoch: 924, Loss: 256681.125\n",
      "Epoch: 925, Loss: 241876.21875\n",
      "Epoch: 926, Loss: 206799.1875\n",
      "Epoch: 927, Loss: 167728.125\n",
      "Epoch: 928, Loss: 197854.484375\n",
      "Epoch: 929, Loss: 183918.5\n",
      "Epoch: 930, Loss: 200534.1875\n",
      "Epoch: 931, Loss: 188384.1875\n",
      "Epoch: 932, Loss: 190844.625\n",
      "Epoch: 933, Loss: 173648.9375\n",
      "Epoch: 934, Loss: 164663.28125\n",
      "Epoch: 935, Loss: 174942.484375\n",
      "Epoch: 936, Loss: 165990.09375\n",
      "Epoch: 937, Loss: 168249.96875\n",
      "Epoch: 938, Loss: 186526.984375\n",
      "Epoch: 939, Loss: 222473.3125\n",
      "Epoch: 940, Loss: 299881.875\n",
      "Epoch: 941, Loss: 235882.4375\n",
      "Epoch: 942, Loss: 197309.03125\n",
      "Epoch: 943, Loss: 226453.5625\n",
      "Epoch: 944, Loss: 205810.359375\n",
      "Epoch: 945, Loss: 228229.59375\n",
      "Epoch: 946, Loss: 244119.015625\n",
      "Epoch: 947, Loss: 224347.5625\n",
      "Epoch: 948, Loss: 224106.21875\n",
      "Epoch: 949, Loss: 197128.453125\n",
      "Epoch: 950, Loss: 193560.09375\n",
      "Epoch: 951, Loss: 203133.578125\n",
      "Epoch: 952, Loss: 193183.71875\n",
      "Epoch: 953, Loss: 181981.359375\n",
      "Epoch: 954, Loss: 174538.421875\n",
      "Epoch: 955, Loss: 171502.796875\n",
      "Epoch: 956, Loss: 177334.71875\n",
      "Epoch: 957, Loss: 181267.09375\n",
      "Epoch: 958, Loss: 220139.5625\n",
      "Epoch: 959, Loss: 246247.234375\n",
      "Epoch: 960, Loss: 215849.84375\n",
      "Epoch: 961, Loss: 219732.953125\n",
      "Epoch: 962, Loss: 249942.453125\n",
      "Epoch: 963, Loss: 244552.3125\n",
      "Epoch: 964, Loss: 190322.734375\n",
      "Epoch: 965, Loss: 194268.875\n",
      "Epoch: 966, Loss: 175776.796875\n",
      "Epoch: 967, Loss: 186496.9375\n",
      "Epoch: 968, Loss: 162883.34375\n",
      "Epoch: 969, Loss: 171090.375\n",
      "Epoch: 970, Loss: 167150.515625\n",
      "Epoch: 971, Loss: 157570.875\n",
      "Epoch: 972, Loss: 165451.59375\n",
      "Epoch: 973, Loss: 161973.125\n",
      "Epoch: 974, Loss: 160054.953125\n",
      "Epoch: 975, Loss: 160098.90625\n",
      "Epoch: 976, Loss: 155480.03125\n",
      "Epoch: 977, Loss: 150370.765625\n",
      "Epoch: 978, Loss: 148179.140625\n",
      "Epoch: 979, Loss: 146969.625\n",
      "Epoch: 980, Loss: 146109.765625\n",
      "Epoch: 981, Loss: 142426.34375\n",
      "Epoch: 982, Loss: 144031.453125\n",
      "Epoch: 983, Loss: 141730.21875\n",
      "Epoch: 984, Loss: 138986.46875\n",
      "Epoch: 985, Loss: 137810.96875\n",
      "Epoch: 986, Loss: 137181.03125\n",
      "Epoch: 987, Loss: 133306.140625\n",
      "Epoch: 988, Loss: 132271.21875\n",
      "Epoch: 989, Loss: 133398.46875\n",
      "Epoch: 990, Loss: 133276.03125\n",
      "Epoch: 991, Loss: 134554.859375\n",
      "Epoch: 992, Loss: 135727.328125\n",
      "Epoch: 993, Loss: 136816.953125\n",
      "Epoch: 994, Loss: 138993.15625\n",
      "Epoch: 995, Loss: 142213.390625\n",
      "Epoch: 996, Loss: 141660.375\n",
      "Epoch: 997, Loss: 146248.375\n",
      "Epoch: 998, Loss: 141112.109375\n",
      "Epoch: 999, Loss: 139248.65625\n"
     ]
    },
    {
     "data": {
      "image/png": "[encoded data removed]",
      "text/plain": [
       "<Figure size 640x480 with 1 Axes>"
      ]
     },
     "metadata": {},
     "output_type": "display_data"
    }
   ],
   "source": [
    "_, x_reconstructed = model.Train(images, epochs=1000)"
   ]
  },
  {
   "cell_type": "code",
   "execution_count": 20,
   "id": "65909a8d",
   "metadata": {
    "ExecuteTime": {
     "end_time": "2023-12-30T23:16:19.525661300Z",
     "start_time": "2023-12-30T23:16:19.520445300Z"
    },
    "collapsed": false,
    "execution": {
     "iopub.execute_input": "2023-12-31T00:12:01.245539Z",
     "iopub.status.busy": "2023-12-31T00:12:01.244991Z",
     "iopub.status.idle": "2023-12-31T00:12:01.250543Z",
     "shell.execute_reply": "2023-12-31T00:12:01.249723Z"
    },
    "jupyter": {
     "outputs_hidden": false
    },
    "papermill": {
     "duration": 0.088933,
     "end_time": "2023-12-31T00:12:01.252439",
     "exception": false,
     "start_time": "2023-12-31T00:12:01.163506",
     "status": "completed"
    },
    "tags": []
   },
   "outputs": [
    {
     "data": {
      "text/plain": [
       "torch.Size([255, 30000])"
      ]
     },
     "execution_count": 20,
     "metadata": {},
     "output_type": "execute_result"
    }
   ],
   "source": [
    "x_reconstructed.shape"
   ]
  },
  {
   "cell_type": "code",
   "execution_count": 21,
   "id": "3b1f6b5f",
   "metadata": {
    "ExecuteTime": {
     "end_time": "2023-12-30T23:16:19.527668Z",
     "start_time": "2023-12-30T23:16:19.523857900Z"
    },
    "collapsed": false,
    "execution": {
     "iopub.execute_input": "2023-12-31T00:12:01.416729Z",
     "iopub.status.busy": "2023-12-31T00:12:01.416431Z",
     "iopub.status.idle": "2023-12-31T00:12:01.422240Z",
     "shell.execute_reply": "2023-12-31T00:12:01.421373Z"
    },
    "jupyter": {
     "outputs_hidden": false
    },
    "papermill": {
     "duration": 0.089449,
     "end_time": "2023-12-31T00:12:01.424081",
     "exception": false,
     "start_time": "2023-12-31T00:12:01.334632",
     "status": "completed"
    },
    "tags": []
   },
   "outputs": [
    {
     "data": {
      "text/plain": [
       "torch.Size([30000])"
      ]
     },
     "execution_count": 21,
     "metadata": {},
     "output_type": "execute_result"
    }
   ],
   "source": [
    "x_reconstructed[0].shape"
   ]
  },
  {
   "cell_type": "code",
   "execution_count": 22,
   "id": "79844d7e",
   "metadata": {
    "ExecuteTime": {
     "end_time": "2023-12-30T23:16:19.624713500Z",
     "start_time": "2023-12-30T23:16:19.527668Z"
    },
    "collapsed": false,
    "execution": {
     "iopub.execute_input": "2023-12-31T00:12:01.587591Z",
     "iopub.status.busy": "2023-12-31T00:12:01.587284Z",
     "iopub.status.idle": "2023-12-31T00:12:01.761291Z",
     "shell.execute_reply": "2023-12-31T00:12:01.760430Z"
    },
    "jupyter": {
     "outputs_hidden": false
    },
    "papermill": {
     "duration": 0.257722,
     "end_time": "2023-12-31T00:12:01.763313",
     "exception": false,
     "start_time": "2023-12-31T00:12:01.505591",
     "status": "completed"
    },
    "tags": []
   },
   "outputs": [
    {
     "data": {
      "text/plain": [
       "<matplotlib.image.AxesImage at 0x77ffa85e8430>"
      ]
     },
     "execution_count": 22,
     "metadata": {},
     "output_type": "execute_result"
    },
    {
     "data": {
      "image/png": "[encoded data removed]",
      "text/plain": [
       "<Figure size 640x480 with 1 Axes>"
      ]
     },
     "metadata": {},
     "output_type": "display_data"
    }
   ],
   "source": [
    "plt.imshow(x_reconstructed[0].detach().numpy().reshape(100, 100, 3))"
   ]
  },
  {
   "cell_type": "code",
   "execution_count": 23,
   "id": "fc72361a",
   "metadata": {
    "ExecuteTime": {
     "end_time": "2023-12-30T23:34:58.285356800Z",
     "start_time": "2023-12-30T23:34:58.101352900Z"
    },
    "collapsed": false,
    "execution": {
     "iopub.execute_input": "2023-12-31T00:12:01.934882Z",
     "iopub.status.busy": "2023-12-31T00:12:01.934552Z",
     "iopub.status.idle": "2023-12-31T00:12:01.942171Z",
     "shell.execute_reply": "2023-12-31T00:12:01.941358Z"
    },
    "jupyter": {
     "outputs_hidden": false
    },
    "papermill": {
     "duration": 0.094837,
     "end_time": "2023-12-31T00:12:01.944009",
     "exception": false,
     "start_time": "2023-12-31T00:12:01.849172",
     "status": "completed"
    },
    "tags": []
   },
   "outputs": [],
   "source": [
    "def plotting(num_images=10):\n",
    "    plt.figure(figsize=(20, 20))\n",
    "    f = plt.gcf()\n",
    "    for i in range(num_images):\n",
    "        # display original\n",
    "        ax = plt.subplot(10, 2, 2 * i + 1)\n",
    "        plt.imshow(images[i].reshape(100, 100, 3))\n",
    "        plt.gray()\n",
    "        ax.get_xaxis().set_visible(False)\n",
    "        ax.get_yaxis().set_visible(False)\n",
    "\n",
    "        # display reconstruction\n",
    "        ax = plt.subplot(10, 2, 2 * i + 2)\n",
    "        plt.imshow(x_reconstructed[i].detach().numpy().reshape(100, 100, 3))\n",
    "        plt.gray()\n",
    "        ax.get_xaxis().set_visible(False)\n",
    "        ax.get_yaxis().set_visible(False)\n",
    "    fig = plt.gcf()\n",
    "    fig.savefig('Reconstructed.jpeg')\n",
    "    created_image = Image.open('Reconstructed.jpeg')\n",
    "    plt.show()\n",
    "    return created_image"
   ]
  },
  {
   "cell_type": "code",
   "execution_count": 24,
   "id": "d0053f05",
   "metadata": {
    "ExecuteTime": {
     "end_time": "2023-12-30T23:34:59.329249300Z",
     "start_time": "2023-12-30T23:34:59.084917900Z"
    },
    "collapsed": false,
    "execution": {
     "iopub.execute_input": "2023-12-31T00:12:02.111031Z",
     "iopub.status.busy": "2023-12-31T00:12:02.110728Z",
     "iopub.status.idle": "2023-12-31T00:12:02.514212Z",
     "shell.execute_reply": "2023-12-31T00:12:02.513041Z"
    },
    "jupyter": {
     "outputs_hidden": false
    },
    "papermill": {
     "duration": 0.493437,
     "end_time": "2023-12-31T00:12:02.521264",
     "exception": false,
     "start_time": "2023-12-31T00:12:02.027827",
     "status": "completed"
    },
    "tags": []
   },
   "outputs": [
    {
     "data": {
      "image/png": "[encoded data removed]",
      "text/plain": [
       "<Figure size 2000x2000 with 4 Axes>"
      ]
     },
     "metadata": {},
     "output_type": "display_data"
    }
   ],
   "source": [
    "created_image = plotting(2)"
   ]
  },
  {
   "cell_type": "code",
   "execution_count": 25,
   "id": "f42b19f3",
   "metadata": {
    "ExecuteTime": {
     "end_time": "2023-12-30T23:38:09.208555800Z",
     "start_time": "2023-12-30T23:38:09.077317600Z"
    },
    "collapsed": false,
    "execution": {
     "iopub.execute_input": "2023-12-31T00:12:02.717490Z",
     "iopub.status.busy": "2023-12-31T00:12:02.717082Z",
     "iopub.status.idle": "2023-12-31T00:12:02.845758Z",
     "shell.execute_reply": "2023-12-31T00:12:02.844865Z"
    },
    "jupyter": {
     "outputs_hidden": false
    },
    "papermill": {
     "duration": 0.215499,
     "end_time": "2023-12-31T00:12:02.847830",
     "exception": false,
     "start_time": "2023-12-31T00:12:02.632331",
     "status": "completed"
    },
    "tags": []
   },
   "outputs": [],
   "source": [
    "interface = gradio.Interface(plotting, gradio.Slider(1, 10, label=\"Choose number images\", step=1), gradio.Image(label=\"Reconstructed Images\", show_label=True))"
   ]
  },
  {
   "cell_type": "code",
   "execution_count": 26,
   "id": "f7a8e0b4",
   "metadata": {
    "ExecuteTime": {
     "end_time": "2023-12-30T23:38:09.813057800Z",
     "start_time": "2023-12-30T23:38:09.591684200Z"
    },
    "collapsed": false,
    "execution": {
     "iopub.execute_input": "2023-12-31T00:12:03.016910Z",
     "iopub.status.busy": "2023-12-31T00:12:03.016610Z",
     "iopub.status.idle": "2023-12-31T00:12:09.484121Z",
     "shell.execute_reply": "2023-12-31T00:12:09.483194Z"
    },
    "jupyter": {
     "outputs_hidden": false
    },
    "papermill": {
     "duration": 6.554261,
     "end_time": "2023-12-31T00:12:09.486213",
     "exception": false,
     "start_time": "2023-12-31T00:12:02.931952",
     "status": "completed"
    },
    "tags": []
   },
   "outputs": [
    {
     "name": "stdout",
     "output_type": "stream",
     "text": [
      "Running on local URL:  http://127.0.0.1:7860\n",
      "Running on public URL: https://60bc8086e9e9758106.gradio.live\n",
      "\n",
      "This share link expires in 72 hours. For free permanent hosting and GPU upgrades, run `gradio deploy` from Terminal to deploy to Spaces (https://huggingface.co/spaces)\n"
     ]
    },
    {
     "data": {
      "text/html": [
       "<div><iframe src=\"https://60bc8086e9e9758106.gradio.live\" width=\"100%\" height=\"500\" allow=\"autoplay; camera; microphone; clipboard-read; clipboard-write;\" frameborder=\"0\" allowfullscreen></iframe></div>"
      ],
      "text/plain": [
       "<IPython.core.display.HTML object>"
      ]
     },
     "metadata": {},
     "output_type": "display_data"
    },
    {
     "data": {
      "text/plain": []
     },
     "execution_count": 26,
     "metadata": {},
     "output_type": "execute_result"
    }
   ],
   "source": [
    "interface.launch(share=True)"
   ]
  }
 ],
 "metadata": {
  "kaggle": {
   "accelerator": "gpu",
   "dataSources": [
    {
     "datasetId": 4240549,
     "sourceId": 7308333,
     "sourceType": "datasetVersion"
    }
   ],
   "dockerImageVersionId": 30626,
   "isGpuEnabled": true,
   "isInternetEnabled": true,
   "language": "python",
   "sourceType": "notebook"
  },
  "kernelspec": {
   "display_name": "Python 3",
   "language": "python",
   "name": "python3"
  },
  "language_info": {
   "codemirror_mode": {
    "name": "ipython",
    "version": 3
   },
   "file_extension": ".py",
   "mimetype": "text/x-python",
   "name": "python",
   "nbconvert_exporter": "python",
   "pygments_lexer": "ipython3",
   "version": "3.10.12"
  },
  "papermill": {
   "default_parameters": {},
   "duration": 291.42502,
   "end_time": "2023-12-31T00:12:12.194245",
   "environment_variables": {},
   "exception": null,
   "input_path": "__notebook__.ipynb",
   "output_path": "__notebook__.ipynb",
   "parameters": {},
   "start_time": "2023-12-31T00:07:20.769225",
   "version": "2.4.0"
  }
 },
 "nbformat": 4,
 "nbformat_minor": 5
}
